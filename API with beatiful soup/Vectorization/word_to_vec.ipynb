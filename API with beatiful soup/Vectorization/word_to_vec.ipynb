{
 "cells": [
  {
   "cell_type": "code",
   "execution_count": 16,
   "metadata": {
    "pycharm": {
     "name": "#%%\n"
    }
   },
   "outputs": [],
   "source": [
    "import csv\n",
    "\n",
    "csv_file = r'minerva_university_responses.csv'\n",
    "txt_file = r'mu_responses_txt.txt'\n",
    "\n",
    "with open(txt_file, \"w\", encoding=\"utf8\") as my_output_file:\n",
    "    with open(csv_file, \"r\", encoding=\"utf8\") as my_input_file:\n",
    "        [my_output_file.write(\" \".join(row)+'\\n') for row in csv.reader(x.replace('\\0', '') for x in my_input_file)]\n",
    "    my_output_file.close()\n"
   ]
  },
  {
   "cell_type": "code",
   "execution_count": null,
   "metadata": {
    "pycharm": {
     "name": "#%%\n"
    }
   },
   "outputs": [],
   "source": [
    "!pip install gensim"
   ]
  },
  {
   "cell_type": "code",
   "execution_count": 17,
   "metadata": {
    "pycharm": {
     "name": "#%%\n"
    }
   },
   "outputs": [
    {
     "name": "stderr",
     "output_type": "stream",
     "text": [
      "IOPub data rate exceeded.\n",
      "The notebook server will temporarily stop sending output\n",
      "to the client in order to avoid crashing it.\n",
      "To change this limit, set the config variable\n",
      "`--NotebookApp.iopub_data_rate_limit`.\n",
      "\n",
      "Current values:\n",
      "NotebookApp.iopub_data_rate_limit=1000000.0 (bytes/sec)\n",
      "NotebookApp.rate_limit_window=3.0 (secs)\n",
      "\n"
     ]
    },
    {
     "name": "stdout",
     "output_type": "stream",
     "text": [
      "Cosine similarity between 'alice' and 'wonderland' - CBOW :  0.48157704\n",
      "Cosine similarity between 'alice' and 'machines' - CBOW :  0.038696345\n"
     ]
    },
    {
     "ename": "KeyboardInterrupt",
     "evalue": "",
     "output_type": "error",
     "traceback": [
      "\u001b[1;31m---------------------------------------------------------------------------\u001b[0m",
      "\u001b[1;31mKeyboardInterrupt\u001b[0m                         Traceback (most recent call last)",
      "\u001b[1;32m<ipython-input-17-3d8691bb2427>\u001b[0m in \u001b[0;36m<module>\u001b[1;34m\u001b[0m\n\u001b[0;32m     34\u001b[0m \u001b[1;33m\u001b[0m\u001b[0m\n\u001b[0;32m     35\u001b[0m \u001b[1;31m# Create Skip Gram model\u001b[0m\u001b[1;33m\u001b[0m\u001b[1;33m\u001b[0m\u001b[1;33m\u001b[0m\u001b[0m\n\u001b[1;32m---> 36\u001b[1;33m model2 = gensim.models.Word2Vec(data, min_count=1, vector_size=100,\n\u001b[0m\u001b[0;32m     37\u001b[0m                                 window=5, sg=1)\n\u001b[0;32m     38\u001b[0m \u001b[1;33m\u001b[0m\u001b[0m\n",
      "\u001b[1;32m~\\anaconda3\\lib\\site-packages\\gensim\\models\\word2vec.py\u001b[0m in \u001b[0;36m__init__\u001b[1;34m(self, sentences, corpus_file, vector_size, alpha, window, min_count, max_vocab_size, sample, seed, workers, min_alpha, sg, hs, negative, ns_exponent, cbow_mean, hashfxn, epochs, null_word, trim_rule, sorted_vocab, batch_words, compute_loss, callbacks, comment, max_final_vocab, shrink_windows)\u001b[0m\n\u001b[0;32m    425\u001b[0m             \u001b[0mself\u001b[0m\u001b[1;33m.\u001b[0m\u001b[0m_check_corpus_sanity\u001b[0m\u001b[1;33m(\u001b[0m\u001b[0mcorpus_iterable\u001b[0m\u001b[1;33m=\u001b[0m\u001b[0mcorpus_iterable\u001b[0m\u001b[1;33m,\u001b[0m \u001b[0mcorpus_file\u001b[0m\u001b[1;33m=\u001b[0m\u001b[0mcorpus_file\u001b[0m\u001b[1;33m,\u001b[0m \u001b[0mpasses\u001b[0m\u001b[1;33m=\u001b[0m\u001b[1;33m(\u001b[0m\u001b[0mepochs\u001b[0m \u001b[1;33m+\u001b[0m \u001b[1;36m1\u001b[0m\u001b[1;33m)\u001b[0m\u001b[1;33m)\u001b[0m\u001b[1;33m\u001b[0m\u001b[1;33m\u001b[0m\u001b[0m\n\u001b[0;32m    426\u001b[0m             \u001b[0mself\u001b[0m\u001b[1;33m.\u001b[0m\u001b[0mbuild_vocab\u001b[0m\u001b[1;33m(\u001b[0m\u001b[0mcorpus_iterable\u001b[0m\u001b[1;33m=\u001b[0m\u001b[0mcorpus_iterable\u001b[0m\u001b[1;33m,\u001b[0m \u001b[0mcorpus_file\u001b[0m\u001b[1;33m=\u001b[0m\u001b[0mcorpus_file\u001b[0m\u001b[1;33m,\u001b[0m \u001b[0mtrim_rule\u001b[0m\u001b[1;33m=\u001b[0m\u001b[0mtrim_rule\u001b[0m\u001b[1;33m)\u001b[0m\u001b[1;33m\u001b[0m\u001b[1;33m\u001b[0m\u001b[0m\n\u001b[1;32m--> 427\u001b[1;33m             self.train(\n\u001b[0m\u001b[0;32m    428\u001b[0m                 \u001b[0mcorpus_iterable\u001b[0m\u001b[1;33m=\u001b[0m\u001b[0mcorpus_iterable\u001b[0m\u001b[1;33m,\u001b[0m \u001b[0mcorpus_file\u001b[0m\u001b[1;33m=\u001b[0m\u001b[0mcorpus_file\u001b[0m\u001b[1;33m,\u001b[0m \u001b[0mtotal_examples\u001b[0m\u001b[1;33m=\u001b[0m\u001b[0mself\u001b[0m\u001b[1;33m.\u001b[0m\u001b[0mcorpus_count\u001b[0m\u001b[1;33m,\u001b[0m\u001b[1;33m\u001b[0m\u001b[1;33m\u001b[0m\u001b[0m\n\u001b[0;32m    429\u001b[0m                 \u001b[0mtotal_words\u001b[0m\u001b[1;33m=\u001b[0m\u001b[0mself\u001b[0m\u001b[1;33m.\u001b[0m\u001b[0mcorpus_total_words\u001b[0m\u001b[1;33m,\u001b[0m \u001b[0mepochs\u001b[0m\u001b[1;33m=\u001b[0m\u001b[0mself\u001b[0m\u001b[1;33m.\u001b[0m\u001b[0mepochs\u001b[0m\u001b[1;33m,\u001b[0m \u001b[0mstart_alpha\u001b[0m\u001b[1;33m=\u001b[0m\u001b[0mself\u001b[0m\u001b[1;33m.\u001b[0m\u001b[0malpha\u001b[0m\u001b[1;33m,\u001b[0m\u001b[1;33m\u001b[0m\u001b[1;33m\u001b[0m\u001b[0m\n",
      "\u001b[1;32m~\\anaconda3\\lib\\site-packages\\gensim\\models\\word2vec.py\u001b[0m in \u001b[0;36mtrain\u001b[1;34m(self, corpus_iterable, corpus_file, total_examples, total_words, epochs, start_alpha, end_alpha, word_count, queue_factor, report_delay, compute_loss, callbacks, **kwargs)\u001b[0m\n\u001b[0;32m   1068\u001b[0m \u001b[1;33m\u001b[0m\u001b[0m\n\u001b[0;32m   1069\u001b[0m             \u001b[1;32mif\u001b[0m \u001b[0mcorpus_iterable\u001b[0m \u001b[1;32mis\u001b[0m \u001b[1;32mnot\u001b[0m \u001b[1;32mNone\u001b[0m\u001b[1;33m:\u001b[0m\u001b[1;33m\u001b[0m\u001b[1;33m\u001b[0m\u001b[0m\n\u001b[1;32m-> 1070\u001b[1;33m                 trained_word_count_epoch, raw_word_count_epoch, job_tally_epoch = self._train_epoch(\n\u001b[0m\u001b[0;32m   1071\u001b[0m                     \u001b[0mcorpus_iterable\u001b[0m\u001b[1;33m,\u001b[0m \u001b[0mcur_epoch\u001b[0m\u001b[1;33m=\u001b[0m\u001b[0mcur_epoch\u001b[0m\u001b[1;33m,\u001b[0m \u001b[0mtotal_examples\u001b[0m\u001b[1;33m=\u001b[0m\u001b[0mtotal_examples\u001b[0m\u001b[1;33m,\u001b[0m\u001b[1;33m\u001b[0m\u001b[1;33m\u001b[0m\u001b[0m\n\u001b[0;32m   1072\u001b[0m                     \u001b[0mtotal_words\u001b[0m\u001b[1;33m=\u001b[0m\u001b[0mtotal_words\u001b[0m\u001b[1;33m,\u001b[0m \u001b[0mqueue_factor\u001b[0m\u001b[1;33m=\u001b[0m\u001b[0mqueue_factor\u001b[0m\u001b[1;33m,\u001b[0m \u001b[0mreport_delay\u001b[0m\u001b[1;33m=\u001b[0m\u001b[0mreport_delay\u001b[0m\u001b[1;33m,\u001b[0m\u001b[1;33m\u001b[0m\u001b[1;33m\u001b[0m\u001b[0m\n",
      "\u001b[1;32m~\\anaconda3\\lib\\site-packages\\gensim\\models\\word2vec.py\u001b[0m in \u001b[0;36m_train_epoch\u001b[1;34m(self, data_iterable, cur_epoch, total_examples, total_words, queue_factor, report_delay, callbacks)\u001b[0m\n\u001b[0;32m   1429\u001b[0m             \u001b[0mthread\u001b[0m\u001b[1;33m.\u001b[0m\u001b[0mstart\u001b[0m\u001b[1;33m(\u001b[0m\u001b[1;33m)\u001b[0m\u001b[1;33m\u001b[0m\u001b[1;33m\u001b[0m\u001b[0m\n\u001b[0;32m   1430\u001b[0m \u001b[1;33m\u001b[0m\u001b[0m\n\u001b[1;32m-> 1431\u001b[1;33m         trained_word_count, raw_word_count, job_tally = self._log_epoch_progress(\n\u001b[0m\u001b[0;32m   1432\u001b[0m             \u001b[0mprogress_queue\u001b[0m\u001b[1;33m,\u001b[0m \u001b[0mjob_queue\u001b[0m\u001b[1;33m,\u001b[0m \u001b[0mcur_epoch\u001b[0m\u001b[1;33m=\u001b[0m\u001b[0mcur_epoch\u001b[0m\u001b[1;33m,\u001b[0m \u001b[0mtotal_examples\u001b[0m\u001b[1;33m=\u001b[0m\u001b[0mtotal_examples\u001b[0m\u001b[1;33m,\u001b[0m\u001b[1;33m\u001b[0m\u001b[1;33m\u001b[0m\u001b[0m\n\u001b[0;32m   1433\u001b[0m             \u001b[0mtotal_words\u001b[0m\u001b[1;33m=\u001b[0m\u001b[0mtotal_words\u001b[0m\u001b[1;33m,\u001b[0m \u001b[0mreport_delay\u001b[0m\u001b[1;33m=\u001b[0m\u001b[0mreport_delay\u001b[0m\u001b[1;33m,\u001b[0m \u001b[0mis_corpus_file_mode\u001b[0m\u001b[1;33m=\u001b[0m\u001b[1;32mFalse\u001b[0m\u001b[1;33m,\u001b[0m\u001b[1;33m\u001b[0m\u001b[1;33m\u001b[0m\u001b[0m\n",
      "\u001b[1;32m~\\anaconda3\\lib\\site-packages\\gensim\\models\\word2vec.py\u001b[0m in \u001b[0;36m_log_epoch_progress\u001b[1;34m(self, progress_queue, job_queue, cur_epoch, total_examples, total_words, report_delay, is_corpus_file_mode)\u001b[0m\n\u001b[0;32m   1284\u001b[0m \u001b[1;33m\u001b[0m\u001b[0m\n\u001b[0;32m   1285\u001b[0m         \u001b[1;32mwhile\u001b[0m \u001b[0munfinished_worker_count\u001b[0m \u001b[1;33m>\u001b[0m \u001b[1;36m0\u001b[0m\u001b[1;33m:\u001b[0m\u001b[1;33m\u001b[0m\u001b[1;33m\u001b[0m\u001b[0m\n\u001b[1;32m-> 1286\u001b[1;33m             \u001b[0mreport\u001b[0m \u001b[1;33m=\u001b[0m \u001b[0mprogress_queue\u001b[0m\u001b[1;33m.\u001b[0m\u001b[0mget\u001b[0m\u001b[1;33m(\u001b[0m\u001b[1;33m)\u001b[0m  \u001b[1;31m# blocks if workers too slow\u001b[0m\u001b[1;33m\u001b[0m\u001b[1;33m\u001b[0m\u001b[0m\n\u001b[0m\u001b[0;32m   1287\u001b[0m             \u001b[1;32mif\u001b[0m \u001b[0mreport\u001b[0m \u001b[1;32mis\u001b[0m \u001b[1;32mNone\u001b[0m\u001b[1;33m:\u001b[0m  \u001b[1;31m# a thread reporting that it finished\u001b[0m\u001b[1;33m\u001b[0m\u001b[1;33m\u001b[0m\u001b[0m\n\u001b[0;32m   1288\u001b[0m                 \u001b[0munfinished_worker_count\u001b[0m \u001b[1;33m-=\u001b[0m \u001b[1;36m1\u001b[0m\u001b[1;33m\u001b[0m\u001b[1;33m\u001b[0m\u001b[0m\n",
      "\u001b[1;32m~\\anaconda3\\lib\\queue.py\u001b[0m in \u001b[0;36mget\u001b[1;34m(self, block, timeout)\u001b[0m\n\u001b[0;32m    168\u001b[0m             \u001b[1;32melif\u001b[0m \u001b[0mtimeout\u001b[0m \u001b[1;32mis\u001b[0m \u001b[1;32mNone\u001b[0m\u001b[1;33m:\u001b[0m\u001b[1;33m\u001b[0m\u001b[1;33m\u001b[0m\u001b[0m\n\u001b[0;32m    169\u001b[0m                 \u001b[1;32mwhile\u001b[0m \u001b[1;32mnot\u001b[0m \u001b[0mself\u001b[0m\u001b[1;33m.\u001b[0m\u001b[0m_qsize\u001b[0m\u001b[1;33m(\u001b[0m\u001b[1;33m)\u001b[0m\u001b[1;33m:\u001b[0m\u001b[1;33m\u001b[0m\u001b[1;33m\u001b[0m\u001b[0m\n\u001b[1;32m--> 170\u001b[1;33m                     \u001b[0mself\u001b[0m\u001b[1;33m.\u001b[0m\u001b[0mnot_empty\u001b[0m\u001b[1;33m.\u001b[0m\u001b[0mwait\u001b[0m\u001b[1;33m(\u001b[0m\u001b[1;33m)\u001b[0m\u001b[1;33m\u001b[0m\u001b[1;33m\u001b[0m\u001b[0m\n\u001b[0m\u001b[0;32m    171\u001b[0m             \u001b[1;32melif\u001b[0m \u001b[0mtimeout\u001b[0m \u001b[1;33m<\u001b[0m \u001b[1;36m0\u001b[0m\u001b[1;33m:\u001b[0m\u001b[1;33m\u001b[0m\u001b[1;33m\u001b[0m\u001b[0m\n\u001b[0;32m    172\u001b[0m                 \u001b[1;32mraise\u001b[0m \u001b[0mValueError\u001b[0m\u001b[1;33m(\u001b[0m\u001b[1;34m\"'timeout' must be a non-negative number\"\u001b[0m\u001b[1;33m)\u001b[0m\u001b[1;33m\u001b[0m\u001b[1;33m\u001b[0m\u001b[0m\n",
      "\u001b[1;32m~\\anaconda3\\lib\\threading.py\u001b[0m in \u001b[0;36mwait\u001b[1;34m(self, timeout)\u001b[0m\n\u001b[0;32m    300\u001b[0m         \u001b[1;32mtry\u001b[0m\u001b[1;33m:\u001b[0m    \u001b[1;31m# restore state no matter what (e.g., KeyboardInterrupt)\u001b[0m\u001b[1;33m\u001b[0m\u001b[1;33m\u001b[0m\u001b[0m\n\u001b[0;32m    301\u001b[0m             \u001b[1;32mif\u001b[0m \u001b[0mtimeout\u001b[0m \u001b[1;32mis\u001b[0m \u001b[1;32mNone\u001b[0m\u001b[1;33m:\u001b[0m\u001b[1;33m\u001b[0m\u001b[1;33m\u001b[0m\u001b[0m\n\u001b[1;32m--> 302\u001b[1;33m                 \u001b[0mwaiter\u001b[0m\u001b[1;33m.\u001b[0m\u001b[0macquire\u001b[0m\u001b[1;33m(\u001b[0m\u001b[1;33m)\u001b[0m\u001b[1;33m\u001b[0m\u001b[1;33m\u001b[0m\u001b[0m\n\u001b[0m\u001b[0;32m    303\u001b[0m                 \u001b[0mgotit\u001b[0m \u001b[1;33m=\u001b[0m \u001b[1;32mTrue\u001b[0m\u001b[1;33m\u001b[0m\u001b[1;33m\u001b[0m\u001b[0m\n\u001b[0;32m    304\u001b[0m             \u001b[1;32melse\u001b[0m\u001b[1;33m:\u001b[0m\u001b[1;33m\u001b[0m\u001b[1;33m\u001b[0m\u001b[0m\n",
      "\u001b[1;31mKeyboardInterrupt\u001b[0m: "
     ]
    }
   ],
   "source": [
    "from nltk.tokenize import sent_tokenize, word_tokenize\n",
    "import warnings\n",
    "\n",
    "warnings.filterwarnings(action='ignore')\n",
    "\n",
    "import gensim\n",
    "from gensim.models import Word2Vec\n",
    "\n",
    "sample = open(\"mu_responses_txt.txt\", encoding=\"utf8\")\n",
    "s = sample.read()\n",
    "f = s.replace(\"\\n\", \" \")\n",
    "data = []\n",
    "for i in sent_tokenize(f):\n",
    "    temp = []\n",
    "\n",
    "    # tokenize the sentence into words\n",
    "    for j in word_tokenize(i):\n",
    "        temp.append(j.lower())\n",
    "\n",
    "    data.append(temp)\n",
    "    \n",
    "print(data)\n",
    "\n",
    "# Create CBOW model\n",
    "model1 = gensim.models.Word2Vec(data, min_count=1,\n",
    "                                vector_size=100, window=5)\n",
    "print(\"Cosine similarity between 'alice' \" +\n",
    "               \"and 'wonderland' - CBOW : \",\n",
    "    model1.wv.similarity('alice', 'wonderland'))\n",
    "\n",
    "print(\"Cosine similarity between 'alice' \" +\n",
    "      \"and 'machines' - CBOW : \",\n",
    "      model1.wv.similarity('alice', 'machines'))\n",
    "\n",
    "# Create Skip Gram model\n",
    "model2 = gensim.models.Word2Vec(data, min_count=1, vector_size=100,\n",
    "                                window=5, sg=1)\n",
    "\n",
    "# Print results\n",
    "print(\"Cosine similarity between 'network' \" +\n",
    "      \"and 'node' - Skip Gram : \",\n",
    "      model2.wv.similarity('network', 'node'))\n",
    "\n",
    "print(\"Cosine similarity between 'network' \" +\n",
    "      \"and 'system' - Skip Gram : \",\n",
    "      model2.wv.similarity('network', 'system'))\n"
   ]
  },
  {
   "cell_type": "code",
   "execution_count": null,
   "metadata": {},
   "outputs": [],
   "source": [
    "!pip install gensim"
   ]
  },
  {
   "cell_type": "code",
   "execution_count": null,
   "metadata": {},
   "outputs": [],
   "source": [
    "import re\n",
    "from nltk.stem.api import StemmerI\n",
    "from nltk.stem.porter import *\n",
    "import gensim\n",
    "import numpy as np\n",
    "import pandas as pd\n",
    "from sklearn.model_selection import train_test_split"
   ]
  },
  {
   "cell_type": "code",
   "execution_count": null,
   "metadata": {
    "pycharm": {
     "name": "#%%\n"
    }
   },
   "outputs": [],
   "source": [
    "\n",
    "pd.set_option('display.max_colwidth', 100)\n",
    "responses = pd.read_csv('minerva_university_responses.csv', encoding='latin-1')\n",
    "#messages = messages.drop(labels = [\"Unnamed: 2\", \"Unnamed: 3\", \"Unnamed: 4\"], axis = 1)\n",
    "#messages.columns = [\"label\", \"text\"]\n",
    "responses.head()\n"
   ]
  },
  {
   "cell_type": "code",
   "execution_count": null,
   "metadata": {},
   "outputs": [],
   "source": [
    "\n",
    "responses.dropna(subset = ['Poll Responses Response'], inplace=True)\n"
   ]
  },
  {
   "cell_type": "code",
   "execution_count": null,
   "metadata": {},
   "outputs": [],
   "source": [
    "\n",
    "responses['text_clean'] = responses['Poll Responses Response'].apply(lambda x: gensim.utils.simple_preprocess(x))\n",
    "responses.head()"
   ]
  },
  {
   "cell_type": "code",
   "execution_count": null,
   "metadata": {},
   "outputs": [],
   "source": [
    "# Encoding the label column\n",
    "responses['Assessment reports Score']=responses['Assessment reports Score'].map({0:'N/A',1:'contains_nothing',2:'contains_some',3:'contains_enough',4:'contains_more_than_enough',5:'woof'})\n",
    "# Split data into train and test sets\n",
    "X_train, X_test, y_train, y_test = train_test_split(responses['text_clean'], responses['Assessment reports Score'] , test_size=0.2)"
   ]
  },
  {
   "cell_type": "code",
   "execution_count": null,
   "metadata": {},
   "outputs": [],
   "source": [
    "# Train the word2vec model\n",
    "w2v_model = gensim.models.Word2Vec(X_train,\n",
    "                                   vector_size=100,\n",
    "                                   window=5,\n",
    "                                   min_count=2)"
   ]
  },
  {
   "cell_type": "code",
   "execution_count": null,
   "metadata": {},
   "outputs": [],
   "source": [
    "w2v_model.wv.index_to_key"
   ]
  },
  {
   "cell_type": "code",
   "execution_count": null,
   "metadata": {},
   "outputs": [],
   "source": [
    "# Find the most similar words to \"king\" based on word vectors from our trained model\n",
    "w2v_model.wv.most_similar('systemdynamics')"
   ]
  },
  {
   "cell_type": "code",
   "execution_count": null,
   "metadata": {},
   "outputs": [],
   "source": [
    "df = pd.read_csv('minerva_university_responses.csv')\n",
    "df.dropna(subset = ['Poll Responses Response'], inplace=True)\n",
    "df_dict = {g: d for g, d in df.groupby('Assessment reports Hashtag')}\n",
    "networks = df_dict['#networks']"
   ]
  },
  {
   "cell_type": "code",
   "execution_count": null,
   "metadata": {},
   "outputs": [],
   "source": [
    "networks['text_clean'] = networks['Poll Responses Response'].apply(lambda x: gensim.utils.simple_preprocess(x))\n"
   ]
  },
  {
   "cell_type": "code",
   "execution_count": null,
   "metadata": {},
   "outputs": [],
   "source": [
    "# Encoding the label column\n",
    "networks['Assessment reports Score']=networks['Assessment reports Score'].map({0:'N/A',1:'contains_nothing',2:'contains_some',3:'contains_enough',4:'contains_more_than_enough',5:'woof'})\n",
    "# Split data into train and test sets\n",
    "X_train, X_test, y_train, y_test = train_test_split(networks['text_clean'], networks['Assessment reports Score'] , test_size=0.2)"
   ]
  },
  {
   "cell_type": "code",
   "execution_count": null,
   "metadata": {},
   "outputs": [],
   "source": []
  },
  {
   "cell_type": "code",
   "execution_count": null,
   "metadata": {},
   "outputs": [],
   "source": []
  },
  {
   "cell_type": "code",
   "execution_count": null,
   "metadata": {},
   "outputs": [],
   "source": []
  },
  {
   "cell_type": "code",
   "execution_count": null,
   "metadata": {},
   "outputs": [],
   "source": []
  },
  {
   "cell_type": "code",
   "execution_count": null,
   "metadata": {},
   "outputs": [],
   "source": [
    "import re\n",
    "from spacy.lang.en.stop_words import STOP_WORDS\n",
    "from gensim.models.phrases import Phrases, Phraser\n"
   ]
  },
  {
   "cell_type": "code",
   "execution_count": null,
   "metadata": {},
   "outputs": [],
   "source": [
    "def get_sentences(input_file_pointer):\n",
    "    while True:\n",
    "        line = input_file_pointer.readline()\n",
    "        if not line:\n",
    "            break\n",
    "\n",
    "        yield line"
   ]
  },
  {
   "cell_type": "code",
   "execution_count": null,
   "metadata": {},
   "outputs": [],
   "source": [
    "def clean_sentence(sentence):\n",
    "    sentence = sentence.lower().strip()\n",
    "    sentence = re.sub(r’[^a-z0-9\\s]’, '’, sentence)\n",
    "    return re.sub(r’\\s{2,}’, ' ', sentence)\n",
    "                      \n",
    "def tokenize(sentence):\n",
    "    return [token for token in sentence.split() if token not in STOP_WORDS]\n",
    "                      \n",
    "def build_phrases(sentences):\n",
    "    phrases = Phrases(sentences,\n",
    "                      min_count=5,\n",
    "                      threshold=7,\n",
    "                      progress_per=1000)\n",
    "    return Phraser(phrases)\n",
    "\n",
    "                      "
   ]
  },
  {
   "cell_type": "code",
   "execution_count": null,
   "metadata": {},
   "outputs": [],
   "source": [
    "phrases_model.save('phrases_model.txt')\n",
    "phrases_model= Phraser.load('phrases_model.txt')"
   ]
  },
  {
   "cell_type": "code",
   "execution_count": null,
   "metadata": {},
   "outputs": [],
   "source": [
    "def sentence_to_bi_grams(phrases_model, sentence):\n",
    "    return ' '.join(phrases_model[sentence])"
   ]
  },
  {
   "cell_type": "code",
   "execution_count": null,
   "metadata": {},
   "outputs": [],
   "source": [
    "def sentences_to_bi_grams(n_grams, input_file_name, output_file_name):\n",
    "    with open(input_file_name, 'r') as input_file_pointer:\n",
    "        with open(output_file_name, 'w+') as out_file:\n",
    "            for sentence in get_sentences(input_file_pointer):\n",
    "                cleaned_sentence = clean_sentence(sentence)\n",
    "                tokenized_sentence = tokenize(cleaned_sentence)\n",
    "                parsed_sentence = sentence_to_bi_grams(n_grams, tokenized_sentence)\n",
    "                out_file.write(parsed_sentence + '\\n')"
   ]
  },
  {
   "cell_type": "code",
   "execution_count": null,
   "metadata": {},
   "outputs": [],
   "source": []
  },
  {
   "cell_type": "code",
   "execution_count": null,
   "metadata": {},
   "outputs": [],
   "source": []
  },
  {
   "cell_type": "code",
   "execution_count": 15,
   "metadata": {},
   "outputs": [],
   "source": [
    "import pandas as pd\n",
    "import numpy as np\n",
    "from tqdm import tqdm\n",
    "tqdm.pandas(desc=\"progress-bar\")\n",
    "from gensim.models import Doc2Vec\n",
    "from sklearn import utils\n",
    "from sklearn.model_selection import train_test_split\n",
    "import gensim\n",
    "from sklearn.linear_model import LogisticRegression\n",
    "from gensim.models.doc2vec import TaggedDocument\n",
    "import re\n",
    "import seaborn as sns\n",
    "import matplotlib.pyplot as plt"
   ]
  },
  {
   "cell_type": "code",
   "execution_count": null,
   "metadata": {},
   "outputs": [],
   "source": []
  },
  {
   "cell_type": "code",
   "execution_count": 3,
   "metadata": {},
   "outputs": [
    {
     "data": {
      "text/html": [
       "<div>\n",
       "<style scoped>\n",
       "    .dataframe tbody tr th:only-of-type {\n",
       "        vertical-align: middle;\n",
       "    }\n",
       "\n",
       "    .dataframe tbody tr th {\n",
       "        vertical-align: top;\n",
       "    }\n",
       "\n",
       "    .dataframe thead th {\n",
       "        text-align: right;\n",
       "    }\n",
       "</style>\n",
       "<table border=\"1\" class=\"dataframe\">\n",
       "  <thead>\n",
       "    <tr style=\"text-align: right;\">\n",
       "      <th></th>\n",
       "      <th>id</th>\n",
       "      <th>Polls ID</th>\n",
       "      <th>Assessment reports Student ID</th>\n",
       "      <th>Poll Responses Response</th>\n",
       "      <th>Assessment reports Hashtag</th>\n",
       "      <th>Assessment reports Score</th>\n",
       "    </tr>\n",
       "  </thead>\n",
       "  <tbody>\n",
       "    <tr>\n",
       "      <th>0</th>\n",
       "      <td>1</td>\n",
       "      <td>12522.0</td>\n",
       "      <td>41.0</td>\n",
       "      <td>The strengths of Plato's approach is his const...</td>\n",
       "      <td>#objectivemorality</td>\n",
       "      <td>2.0</td>\n",
       "    </tr>\n",
       "    <tr>\n",
       "      <th>1</th>\n",
       "      <td>2</td>\n",
       "      <td>12522.0</td>\n",
       "      <td>42.0</td>\n",
       "      <td>Having a difficulty with his Divided Line. Th...</td>\n",
       "      <td>#deductivearg</td>\n",
       "      <td>2.0</td>\n",
       "    </tr>\n",
       "    <tr>\n",
       "      <th>2</th>\n",
       "      <td>3</td>\n",
       "      <td>12522.0</td>\n",
       "      <td>44.0</td>\n",
       "      <td>How can one know if he's in the cave or not, i...</td>\n",
       "      <td>#objectivemorality</td>\n",
       "      <td>3.0</td>\n",
       "    </tr>\n",
       "    <tr>\n",
       "      <th>3</th>\n",
       "      <td>4</td>\n",
       "      <td>12522.0</td>\n",
       "      <td>237.0</td>\n",
       "      <td>S: the hierarchy of the chart we filled out at...</td>\n",
       "      <td>#objectivemorality</td>\n",
       "      <td>3.0</td>\n",
       "    </tr>\n",
       "    <tr>\n",
       "      <th>4</th>\n",
       "      <td>5</td>\n",
       "      <td>12522.0</td>\n",
       "      <td>239.0</td>\n",
       "      <td>It is difficult to grasp how to apply Plato's ...</td>\n",
       "      <td>#objectivemorality</td>\n",
       "      <td>3.0</td>\n",
       "    </tr>\n",
       "    <tr>\n",
       "      <th>5</th>\n",
       "      <td>6</td>\n",
       "      <td>12522.0</td>\n",
       "      <td>243.0</td>\n",
       "      <td>Strenght: Plato does provide a framework for p...</td>\n",
       "      <td>#deductivearg</td>\n",
       "      <td>3.0</td>\n",
       "    </tr>\n",
       "    <tr>\n",
       "      <th>6</th>\n",
       "      <td>7</td>\n",
       "      <td>12522.0</td>\n",
       "      <td>253.0</td>\n",
       "      <td>We were arguing in my breakout about how we ca...</td>\n",
       "      <td>#justificationmethods</td>\n",
       "      <td>4.0</td>\n",
       "    </tr>\n",
       "    <tr>\n",
       "      <th>7</th>\n",
       "      <td>8</td>\n",
       "      <td>12522.0</td>\n",
       "      <td>272.0</td>\n",
       "      <td>We neologised the term \"caveception\", meaning ...</td>\n",
       "      <td>#objectivemorality</td>\n",
       "      <td>3.0</td>\n",
       "    </tr>\n",
       "    <tr>\n",
       "      <th>8</th>\n",
       "      <td>9</td>\n",
       "      <td>12522.0</td>\n",
       "      <td>278.0</td>\n",
       "      <td>Breakout group - Xiaoning claimed that we are ...</td>\n",
       "      <td>#objectivemorality</td>\n",
       "      <td>3.0</td>\n",
       "    </tr>\n",
       "    <tr>\n",
       "      <th>9</th>\n",
       "      <td>10</td>\n",
       "      <td>12522.0</td>\n",
       "      <td>288.0</td>\n",
       "      <td>The most difficlut for me to grasp is how educ...</td>\n",
       "      <td>#deductivearg</td>\n",
       "      <td>3.0</td>\n",
       "    </tr>\n",
       "  </tbody>\n",
       "</table>\n",
       "</div>"
      ],
      "text/plain": [
       "   id  Polls ID  Assessment reports Student ID  \\\n",
       "0   1   12522.0                           41.0   \n",
       "1   2   12522.0                           42.0   \n",
       "2   3   12522.0                           44.0   \n",
       "3   4   12522.0                          237.0   \n",
       "4   5   12522.0                          239.0   \n",
       "5   6   12522.0                          243.0   \n",
       "6   7   12522.0                          253.0   \n",
       "7   8   12522.0                          272.0   \n",
       "8   9   12522.0                          278.0   \n",
       "9  10   12522.0                          288.0   \n",
       "\n",
       "                             Poll Responses Response  \\\n",
       "0  The strengths of Plato's approach is his const...   \n",
       "1   Having a difficulty with his Divided Line. Th...   \n",
       "2  How can one know if he's in the cave or not, i...   \n",
       "3  S: the hierarchy of the chart we filled out at...   \n",
       "4  It is difficult to grasp how to apply Plato's ...   \n",
       "5  Strenght: Plato does provide a framework for p...   \n",
       "6  We were arguing in my breakout about how we ca...   \n",
       "7  We neologised the term \"caveception\", meaning ...   \n",
       "8  Breakout group - Xiaoning claimed that we are ...   \n",
       "9  The most difficlut for me to grasp is how educ...   \n",
       "\n",
       "  Assessment reports Hashtag  Assessment reports Score  \n",
       "0         #objectivemorality                       2.0  \n",
       "1              #deductivearg                       2.0  \n",
       "2         #objectivemorality                       3.0  \n",
       "3         #objectivemorality                       3.0  \n",
       "4         #objectivemorality                       3.0  \n",
       "5              #deductivearg                       3.0  \n",
       "6      #justificationmethods                       4.0  \n",
       "7         #objectivemorality                       3.0  \n",
       "8         #objectivemorality                       3.0  \n",
       "9              #deductivearg                       3.0  "
      ]
     },
     "execution_count": 3,
     "metadata": {},
     "output_type": "execute_result"
    }
   ],
   "source": [
    "df = pd.read_csv('minerva_university_responses.csv')\n",
    "df.dropna(subset = ['Poll Responses Response'], inplace=True)\n",
    "\n",
    "df.head(10)"
   ]
  },
  {
   "cell_type": "code",
   "execution_count": 7,
   "metadata": {},
   "outputs": [
    {
     "data": {
      "text/plain": [
       "(5000, 6)"
      ]
     },
     "execution_count": 7,
     "metadata": {},
     "output_type": "execute_result"
    }
   ],
   "source": [
    "df = df.iloc[:5000]\n",
    "df.shape\n"
   ]
  },
  {
   "cell_type": "code",
   "execution_count": 8,
   "metadata": {},
   "outputs": [
    {
     "data": {
      "text/plain": [
       "275816"
      ]
     },
     "execution_count": 8,
     "metadata": {},
     "output_type": "execute_result"
    }
   ],
   "source": [
    "df.index = range(5000)\n",
    "df['Poll Responses Response'].apply(lambda x: len(x.split(' '))).sum()"
   ]
  },
  {
   "cell_type": "code",
   "execution_count": 9,
   "metadata": {},
   "outputs": [
    {
     "name": "stderr",
     "output_type": "stream",
     "text": [
      "C:\\Users\\Polin\\anaconda3\\lib\\site-packages\\seaborn\\_decorators.py:36: FutureWarning: Pass the following variables as keyword args: x, y. From version 0.12, the only valid positional argument will be `data`, and passing other arguments without an explicit keyword will result in an error or misinterpretation.\n",
      "  warnings.warn(\n"
     ]
    },
    {
     "data": {
      "image/png": "[encoded data removed]",
      "text/plain": [
       "<Figure size 864x288 with 1 Axes>"
      ]
     },
     "metadata": {
      "needs_background": "light"
     },
     "output_type": "display_data"
    }
   ],
   "source": [
    "cnt_pro = df['Assessment reports Score'].value_counts()\n",
    "plt.figure(figsize=(12,4))\n",
    "sns.barplot(cnt_pro.index, cnt_pro.values, alpha=0.8)\n",
    "plt.ylabel('Number of Occurrences', fontsize=12)\n",
    "plt.xlabel('Assessment reports Score', fontsize=12)\n",
    "plt.xticks(rotation=90)\n",
    "plt.show()"
   ]
  },
  {
   "cell_type": "code",
   "execution_count": 10,
   "metadata": {},
   "outputs": [
    {
     "name": "stderr",
     "output_type": "stream",
     "text": [
      "C:\\Users\\Polin\\anaconda3\\lib\\site-packages\\seaborn\\_decorators.py:36: FutureWarning: Pass the following variables as keyword args: x, y. From version 0.12, the only valid positional argument will be `data`, and passing other arguments without an explicit keyword will result in an error or misinterpretation.\n",
      "  warnings.warn(\n"
     ]
    },
    {
     "data": {
      "image/png": "[encoded data removed]",
      "text/plain": [
       "<Figure size 1440x288 with 1 Axes>"
      ]
     },
     "metadata": {
      "needs_background": "light"
     },
     "output_type": "display_data"
    }
   ],
   "source": [
    "cnt_pro = df['Assessment reports Hashtag'].value_counts()\n",
    "plt.figure(figsize=(20,4))\n",
    "sns.barplot(cnt_pro.index, cnt_pro.values, alpha=0.8)\n",
    "plt.ylabel('Number of Occurrences', fontsize=12)\n",
    "plt.xlabel('Assessment reports Hashtag', fontsize=12)\n",
    "plt.xticks(rotation=90)\n",
    "plt.show()"
   ]
  },
  {
   "cell_type": "code",
   "execution_count": 11,
   "metadata": {
    "scrolled": false
   },
   "outputs": [],
   "source": [
    "from bs4 import BeautifulSoup\n",
    "def cleanText(text):\n",
    "    text = BeautifulSoup(text, \"lxml\").text\n",
    "    text = re.sub(r'\\|\\|\\|', r' ', text) \n",
    "    text = re.sub(r'http\\S+', r'<URL>', text)\n",
    "    text = text.lower()\n",
    "    text = text.replace('x', '')\n",
    "    return text\n",
    "df['Poll Responses Response'] = df['Poll Responses Response'].apply(cleanText)"
   ]
  },
  {
   "cell_type": "code",
   "execution_count": null,
   "metadata": {},
   "outputs": [],
   "source": [
    "# new df START from here"
   ]
  },
  {
   "cell_type": "code",
   "execution_count": 12,
   "metadata": {},
   "outputs": [],
   "source": [
    "train, test = train_test_split(df, test_size=0.3, random_state=42)\n",
    "import nltk\n",
    "from nltk.corpus import stopwords\n",
    "def tokenize_text(text):\n",
    "    tokens = []\n",
    "    for sent in nltk.sent_tokenize(text):\n",
    "        for word in nltk.word_tokenize(sent):\n",
    "            if len(word) < 2:\n",
    "                continue\n",
    "            tokens.append(word.lower())\n",
    "    return tokens\n",
    "train_tagged = train.apply(\n",
    "    lambda r: TaggedDocument(words=tokenize_text(r['Poll Responses Response']), tags=[r['Assessment reports Hashtag']]), axis=1)\n",
    "test_tagged = test.apply(\n",
    "    lambda r: TaggedDocument(words=tokenize_text(r['Poll Responses Response']), tags=[r['Assessment reports Hashtag']]), axis=1)\n"
   ]
  },
  {
   "cell_type": "code",
   "execution_count": 13,
   "metadata": {},
   "outputs": [
    {
     "data": {
      "text/plain": [
       "TaggedDocument(words=['top-down', 'processing', 'drives', 'voluntary', 'attention', 'and', 'bottom-up', 'processing', 'drives', 'involuntary', 'attention'], tags=['#cognitionandperception'])"
      ]
     },
     "execution_count": 13,
     "metadata": {},
     "output_type": "execute_result"
    }
   ],
   "source": [
    "train_tagged.values[30]\n"
   ]
  },
  {
   "cell_type": "code",
   "execution_count": null,
   "metadata": {},
   "outputs": [],
   "source": []
  },
  {
   "cell_type": "code",
   "execution_count": 14,
   "metadata": {},
   "outputs": [],
   "source": [
    "import multiprocessing\n",
    "cores = multiprocessing.cpu_count()\n"
   ]
  },
  {
   "cell_type": "code",
   "execution_count": 17,
   "metadata": {},
   "outputs": [
    {
     "name": "stderr",
     "output_type": "stream",
     "text": [
      "100%|█████████████████████████████████████████████████████████████████████████| 3500/3500 [00:00<00:00, 1716565.01it/s]\n"
     ]
    }
   ],
   "source": [
    "model_dbow = Doc2Vec(dm=0, vector_size=120, negative=5, hs=0, min_count=2, sample = 0, workers=cores)\n",
    "model_dbow.build_vocab([x for x in tqdm(train_tagged.values)])"
   ]
  },
  {
   "cell_type": "code",
   "execution_count": 18,
   "metadata": {},
   "outputs": [
    {
     "name": "stderr",
     "output_type": "stream",
     "text": [
      "100%|█████████████████████████████████████████████████████████████████████████| 3500/3500 [00:00<00:00, 1387136.35it/s]\n",
      "100%|█████████████████████████████████████████████████████████████████████████| 3500/3500 [00:00<00:00, 2538924.94it/s]\n",
      "100%|█████████████████████████████████████████████████████████████████████████| 3500/3500 [00:00<00:00, 1336616.95it/s]\n",
      "100%|█████████████████████████████████████████████████████████████████████████| 3500/3500 [00:00<00:00, 1910471.63it/s]\n",
      "100%|█████████████████████████████████████████████████████████████████████████| 3500/3500 [00:00<00:00, 1561875.09it/s]\n",
      "100%|█████████████████████████████████████████████████████████████████████████| 3500/3500 [00:00<00:00, 1772312.45it/s]\n",
      "100%|█████████████████████████████████████████████████████████████████████████| 3500/3500 [00:00<00:00, 1185597.16it/s]\n",
      "100%|█████████████████████████████████████████████████████████████████████████| 3500/3500 [00:00<00:00, 2853268.03it/s]\n",
      "100%|█████████████████████████████████████████████████████████████████████████| 3500/3500 [00:00<00:00, 2289467.25it/s]\n",
      "100%|█████████████████████████████████████████████████████████████████████████| 3500/3500 [00:00<00:00, 1745963.84it/s]\n",
      "100%|█████████████████████████████████████████████████████████████████████████| 3500/3500 [00:00<00:00, 1645931.61it/s]\n",
      "100%|██████████████████████████████████████████████████████████████████████████| 3500/3500 [00:00<00:00, 897863.24it/s]\n",
      "100%|█████████████████████████████████████████████████████████████████████████| 3500/3500 [00:00<00:00, 1644640.82it/s]\n",
      "100%|█████████████████████████████████████████████████████████████████████████| 3500/3500 [00:00<00:00, 1443609.40it/s]\n",
      "100%|█████████████████████████████████████████████████████████████████████████| 3500/3500 [00:00<00:00, 2650788.01it/s]\n",
      "100%|█████████████████████████████████████████████████████████████████████████| 3500/3500 [00:00<00:00, 1748251.04it/s]\n",
      "100%|█████████████████████████████████████████████████████████████████████████| 3500/3500 [00:00<00:00, 1899102.72it/s]\n",
      "100%|█████████████████████████████████████████████████████████████████████████| 3500/3500 [00:00<00:00, 1725645.23it/s]\n",
      "100%|█████████████████████████████████████████████████████████████████████████| 3500/3500 [00:00<00:00, 1008384.67it/s]\n",
      "100%|█████████████████████████████████████████████████████████████████████████| 3500/3500 [00:00<00:00, 3501088.48it/s]\n",
      "100%|█████████████████████████████████████████████████████████████████████████| 3500/3500 [00:00<00:00, 1752215.80it/s]\n",
      "100%|█████████████████████████████████████████████████████████████████████████| 3500/3500 [00:00<00:00, 2198272.54it/s]\n",
      "100%|█████████████████████████████████████████████████████████████████████████| 3500/3500 [00:00<00:00, 2010416.87it/s]\n",
      "100%|█████████████████████████████████████████████████████████████████████████| 3500/3500 [00:00<00:00, 3492758.51it/s]\n",
      "100%|█████████████████████████████████████████████████████████████████████████| 3500/3500 [00:00<00:00, 2858824.54it/s]\n",
      "100%|█████████████████████████████████████████████████████████████████████████| 3500/3500 [00:00<00:00, 1535732.19it/s]\n",
      "100%|█████████████████████████████████████████████████████████████████████████| 3500/3500 [00:00<00:00, 2565547.71it/s]\n",
      "100%|█████████████████████████████████████████████████████████████████████████| 3500/3500 [00:00<00:00, 1578841.04it/s]\n",
      "100%|██████████████████████████████████████████████████████████████████████████| 3500/3500 [00:00<00:00, 989822.94it/s]\n",
      "100%|█████████████████████████████████████████████████████████████████████████| 3500/3500 [00:00<00:00, 2378108.54it/s]"
     ]
    },
    {
     "name": "stdout",
     "output_type": "stream",
     "text": [
      "Wall time: 5.72 s\n"
     ]
    },
    {
     "name": "stderr",
     "output_type": "stream",
     "text": [
      "\n"
     ]
    }
   ],
   "source": [
    "%%time\n",
    "for epoch in range(30):\n",
    "    model_dbow.train(utils.shuffle([x for x in tqdm(train_tagged.values)]), total_examples=len(train_tagged.values), epochs=1)\n",
    "    model_dbow.alpha -= 0.002\n",
    "    model_dbow.min_alpha = model_dbow.alpha"
   ]
  },
  {
   "cell_type": "code",
   "execution_count": 19,
   "metadata": {},
   "outputs": [],
   "source": [
    "def vec_for_learning(model, tagged_docs):\n",
    "    sents = tagged_docs.values\n",
    "    targets, regressors = zip(*[(doc.tags[0], model.infer_vector(doc.words)) for doc in sents])\n",
    "    return targets, regressors\n"
   ]
  },
  {
   "cell_type": "code",
   "execution_count": null,
   "metadata": {},
   "outputs": [],
   "source": []
  },
  {
   "cell_type": "code",
   "execution_count": 20,
   "metadata": {
    "scrolled": true
   },
   "outputs": [
    {
     "name": "stdout",
     "output_type": "stream",
     "text": [
      "Testing accuracy 0.048\n",
      "Testing F1 score: 0.049910654423655706\n"
     ]
    }
   ],
   "source": [
    "y_train, X_train = vec_for_learning(model_dbow, train_tagged)\n",
    "y_test, X_test = vec_for_learning(model_dbow, test_tagged)\n",
    "#model = LogisticRegression()\n",
    "\n",
    "logreg = LogisticRegression(n_jobs=1, C=1e5, solver='liblinear')\n",
    "logreg.fit(X_train, y_train)\n",
    "y_pred = logreg.predict(X_test)\n",
    "\n",
    "from sklearn.metrics import accuracy_score, f1_score\n",
    "print('Testing accuracy %s' % accuracy_score(y_test, y_pred))\n",
    "print('Testing F1 score: {}'.format(f1_score(y_test, y_pred, average='weighted')))"
   ]
  },
  {
   "cell_type": "code",
   "execution_count": 22,
   "metadata": {},
   "outputs": [],
   "source": [
    "# Initially, this model converted the data into a vector and then tried to predict the score from the vector.\n",
    "# Now, it tries to predict the HC/LO\n",
    "# What I want to test though, is how well the model makes itself a vector."
   ]
  },
  {
   "cell_type": "code",
   "execution_count": 23,
   "metadata": {},
   "outputs": [
    {
     "name": "stderr",
     "output_type": "stream",
     "text": [
      "100%|██████████████████████████████████████████████████████████████████████████| 3500/3500 [00:00<00:00, 869105.68it/s]\n"
     ]
    }
   ],
   "source": [
    "model_dmm = Doc2Vec(dm=1, dm_mean=1, vector_size=120, window=10, negative=5, min_count=1, workers=5, alpha=0.065, min_alpha=0.065)\n",
    "model_dmm.build_vocab([x for x in tqdm(train_tagged.values)])"
   ]
  },
  {
   "cell_type": "code",
   "execution_count": 24,
   "metadata": {},
   "outputs": [
    {
     "name": "stderr",
     "output_type": "stream",
     "text": [
      "100%|██████████████████████████████████████████████████████████████████████████| 3500/3500 [00:00<00:00, 933668.13it/s]\n",
      "100%|█████████████████████████████████████████████████████████████████████████| 3500/3500 [00:00<00:00, 1961788.59it/s]\n",
      "100%|█████████████████████████████████████████████████████████████████████████| 3500/3500 [00:00<00:00, 1747834.74it/s]\n",
      "100%|█████████████████████████████████████████████████████████████████████████| 3500/3500 [00:00<00:00, 3501088.48it/s]\n",
      "100%|██████████████████████████████████████████████████████████████████████████| 3500/3500 [00:00<00:00, 850032.66it/s]\n",
      "100%|█████████████████████████████████████████████████████████████████████████| 3500/3500 [00:00<00:00, 3498585.32it/s]\n",
      "100%|█████████████████████████████████████████████████████████████████████████| 3500/3500 [00:00<00:00, 1258147.41it/s]\n",
      "100%|█████████████████████████████████████████████████████████████████████████| 3500/3500 [00:00<00:00, 2465166.08it/s]\n",
      "100%|█████████████████████████████████████████████████████████████████████████| 3500/3500 [00:00<00:00, 2729143.71it/s]\n",
      "100%|█████████████████████████████████████████████████████████████████████████| 3500/3500 [00:00<00:00, 2283768.51it/s]\n",
      "100%|█████████████████████████████████████████████████████████████████████████| 3500/3500 [00:00<00:00, 1747002.74it/s]\n",
      "100%|█████████████████████████████████████████████████████████████████████████| 3500/3500 [00:00<00:00, 2155346.35it/s]\n",
      "100%|█████████████████████████████████████████████████████████████████████████| 3500/3500 [00:00<00:00, 2413293.44it/s]\n",
      "100%|█████████████████████████████████████████████████████████████████████████| 3500/3500 [00:00<00:00, 1885928.06it/s]\n",
      "100%|█████████████████████████████████████████████████████████████████████████| 3500/3500 [00:00<00:00, 2346932.69it/s]\n",
      "100%|█████████████████████████████████████████████████████████████████████████| 3500/3500 [00:00<00:00, 2192035.84it/s]\n",
      "100%|█████████████████████████████████████████████████████████████████████████| 3500/3500 [00:00<00:00, 1663274.87it/s]\n",
      "100%|█████████████████████████████████████████████████████████████████████████| 3500/3500 [00:00<00:00, 1793970.92it/s]\n",
      "100%|█████████████████████████████████████████████████████████████████████████| 3500/3500 [00:00<00:00, 2358622.11it/s]\n",
      "100%|█████████████████████████████████████████████████████████████████████████| 3500/3500 [00:00<00:00, 1918210.38it/s]\n",
      "100%|█████████████████████████████████████████████████████████████████████████| 3500/3500 [00:00<00:00, 1747002.74it/s]\n",
      "100%|█████████████████████████████████████████████████████████████████████████| 3500/3500 [00:00<00:00, 3006977.47it/s]\n",
      "100%|█████████████████████████████████████████████████████████████████████████| 3500/3500 [00:00<00:00, 1747626.67it/s]\n",
      "100%|█████████████████████████████████████████████████████████████████████████| 3500/3500 [00:00<00:00, 2492794.02it/s]\n",
      "100%|█████████████████████████████████████████████████████████████████████████| 3500/3500 [00:00<00:00, 2857711.50it/s]\n",
      "100%|█████████████████████████████████████████████████████████████████████████| 3500/3500 [00:00<00:00, 2492370.80it/s]\n",
      "100%|█████████████████████████████████████████████████████████████████████████| 3500/3500 [00:00<00:00, 1907244.90it/s]\n",
      "100%|█████████████████████████████████████████████████████████████████████████| 3500/3500 [00:00<00:00, 2268943.43it/s]\n",
      "100%|█████████████████████████████████████████████████████████████████████████| 3500/3500 [00:00<00:00, 1369025.83it/s]\n",
      "100%|█████████████████████████████████████████████████████████████████████████| 3500/3500 [00:00<00:00, 1737491.30it/s]\n"
     ]
    },
    {
     "name": "stdout",
     "output_type": "stream",
     "text": [
      "Wall time: 11.4 s\n"
     ]
    }
   ],
   "source": [
    "%%time\n",
    "for epoch in range(30):\n",
    "    model_dmm.train(utils.shuffle([x for x in tqdm(train_tagged.values)]), total_examples=len(train_tagged.values), epochs=1)\n",
    "    model_dmm.alpha -= 0.002\n",
    "    model_dmm.min_alpha = model_dmm.alpha\n"
   ]
  },
  {
   "cell_type": "code",
   "execution_count": 25,
   "metadata": {},
   "outputs": [
    {
     "name": "stdout",
     "output_type": "stream",
     "text": [
      "Testing accuracy 0.06866666666666667\n",
      "Testing F1 score: 0.05381049468418004\n"
     ]
    }
   ],
   "source": [
    "y_train, X_train = vec_for_learning(model_dmm, train_tagged)\n",
    "y_test, X_test = vec_for_learning(model_dmm, test_tagged)\n",
    "logreg.fit(X_train, y_train)\n",
    "y_pred = logreg.predict(X_test)\n",
    "print('Testing accuracy %s' % accuracy_score(y_test, y_pred))\n",
    "print('Testing F1 score: {}'.format(f1_score(y_test, y_pred, average='weighted')))"
   ]
  },
  {
   "cell_type": "code",
   "execution_count": 47,
   "metadata": {},
   "outputs": [
    {
     "name": "stdout",
     "output_type": "stream",
     "text": [
      "[('#observationalstudy', 0.7202430963516235), ('#rightproblem', 0.6774994134902954), ('#hypothesisdevelopment', 0.6586576104164124), ('#analogies', 0.6063302159309387), ('#creativeheuristics', 0.6045189499855042), ('#constraints', 0.5685933232307434), ('#breakitdown', 0.567337155342102), ('#audience', 0.5616141557693481), ('#dataviz', 0.5551997423171997), ('#gapanalysis', 0.5504807829856873)]\n"
     ]
    }
   ],
   "source": [
    "\n",
    "model_dmm.save(\"d2v.model\")\n",
    "\n",
    "similar_doc = model_dmm.dv.most_similar('#professionalism')\n",
    "print(similar_doc)\n",
    "\n",
    "# POtentially SOMEHOW checking which HC the answer is tagging"
   ]
  },
  {
   "cell_type": "code",
   "execution_count": 26,
   "metadata": {},
   "outputs": [
    {
     "ename": "AttributeError",
     "evalue": "'Doc2Vec' object has no attribute 'delete_temporary_training_data'",
     "output_type": "error",
     "traceback": [
      "\u001b[1;31m---------------------------------------------------------------------------\u001b[0m",
      "\u001b[1;31mAttributeError\u001b[0m                            Traceback (most recent call last)",
      "\u001b[1;32m<ipython-input-26-58c903ff55e7>\u001b[0m in \u001b[0;36m<module>\u001b[1;34m\u001b[0m\n\u001b[1;32m----> 1\u001b[1;33m \u001b[0mmodel_dbow\u001b[0m\u001b[1;33m.\u001b[0m\u001b[0mdelete_temporary_training_data\u001b[0m\u001b[1;33m(\u001b[0m\u001b[0mkeep_doctags_vectors\u001b[0m\u001b[1;33m=\u001b[0m\u001b[1;32mTrue\u001b[0m\u001b[1;33m,\u001b[0m \u001b[0mkeep_inference\u001b[0m\u001b[1;33m=\u001b[0m\u001b[1;32mTrue\u001b[0m\u001b[1;33m)\u001b[0m\u001b[1;33m\u001b[0m\u001b[1;33m\u001b[0m\u001b[0m\n\u001b[0m\u001b[0;32m      2\u001b[0m \u001b[0mmodel_dmm\u001b[0m\u001b[1;33m.\u001b[0m\u001b[0mdelete_temporary_training_data\u001b[0m\u001b[1;33m(\u001b[0m\u001b[0mkeep_doctags_vectors\u001b[0m\u001b[1;33m=\u001b[0m\u001b[1;32mTrue\u001b[0m\u001b[1;33m,\u001b[0m \u001b[0mkeep_inference\u001b[0m\u001b[1;33m=\u001b[0m\u001b[1;32mTrue\u001b[0m\u001b[1;33m)\u001b[0m\u001b[1;33m\u001b[0m\u001b[1;33m\u001b[0m\u001b[0m\n",
      "\u001b[1;31mAttributeError\u001b[0m: 'Doc2Vec' object has no attribute 'delete_temporary_training_data'"
     ]
    }
   ],
   "source": [
    "model_dbow.delete_temporary_training_data(keep_doctags_vectors=True, keep_inference=True)\n",
    "model_dmm.delete_temporary_training_data(keep_doctags_vectors=True, keep_inference=True)"
   ]
  },
  {
   "cell_type": "code",
   "execution_count": 28,
   "metadata": {},
   "outputs": [
    {
     "name": "stdout",
     "output_type": "stream",
     "text": [
      "Collecting testfixtures\n",
      "  Downloading testfixtures-7.0.0-py3-none-any.whl (97 kB)\n",
      "Installing collected packages: testfixtures\n",
      "Successfully installed testfixtures-7.0.0\n"
     ]
    }
   ],
   "source": [
    "!pip install testfixtures"
   ]
  },
  {
   "cell_type": "code",
   "execution_count": 30,
   "metadata": {},
   "outputs": [],
   "source": [
    "\n",
    "from gensim.test.test_doc2vec import ConcatenatedDoc2Vec\n",
    "new_model = ConcatenatedDoc2Vec([model_dbow, model_dmm])"
   ]
  },
  {
   "cell_type": "code",
   "execution_count": 33,
   "metadata": {},
   "outputs": [],
   "source": [
    "def get_vectors(model, tagged_docs):\n",
    "    sents = tagged_docs.values\n",
    "    targets, regressors = zip(*[(doc.tags[0], model.infer_vector(doc.words)) for doc in sents])\n",
    "    return targets, regressors"
   ]
  },
  {
   "cell_type": "code",
   "execution_count": 34,
   "metadata": {},
   "outputs": [
    {
     "name": "stdout",
     "output_type": "stream",
     "text": [
      "Testing accuracy 0.12066666666666667\n",
      "Testing F1 score: 0.11834742617901531\n"
     ]
    }
   ],
   "source": [
    "y_train, X_train = get_vectors(new_model, train_tagged)\n",
    "y_test, X_test = get_vectors(new_model, test_tagged)\n",
    "logreg.fit(X_train, y_train)\n",
    "y_pred = logreg.predict(X_test)\n",
    "print('Testing accuracy %s' % accuracy_score(y_test, y_pred))\n",
    "print('Testing F1 score: {}'.format(f1_score(y_test, y_pred, average='weighted')))"
   ]
  },
  {
   "cell_type": "code",
   "execution_count": null,
   "metadata": {},
   "outputs": [],
   "source": []
  },
  {
   "cell_type": "code",
   "execution_count": 2,
   "metadata": {},
   "outputs": [
    {
     "data": {
      "text/html": [
       "<div>\n",
       "<style scoped>\n",
       "    .dataframe tbody tr th:only-of-type {\n",
       "        vertical-align: middle;\n",
       "    }\n",
       "\n",
       "    .dataframe tbody tr th {\n",
       "        vertical-align: top;\n",
       "    }\n",
       "\n",
       "    .dataframe thead th {\n",
       "        text-align: right;\n",
       "    }\n",
       "</style>\n",
       "<table border=\"1\" class=\"dataframe\">\n",
       "  <thead>\n",
       "    <tr style=\"text-align: right;\">\n",
       "      <th></th>\n",
       "      <th>id</th>\n",
       "      <th>Polls ID</th>\n",
       "      <th>Assessment reports Student ID</th>\n",
       "      <th>Poll Responses Response</th>\n",
       "      <th>Assessment reports Hashtag</th>\n",
       "      <th>Assessment reports Score</th>\n",
       "    </tr>\n",
       "  </thead>\n",
       "  <tbody>\n",
       "    <tr>\n",
       "      <th>3207</th>\n",
       "      <td>3208</td>\n",
       "      <td>31079.0</td>\n",
       "      <td>247.0</td>\n",
       "      <td>#networks 2 for the first reading (Winners Don...</td>\n",
       "      <td>#networks</td>\n",
       "      <td>4.0</td>\n",
       "    </tr>\n",
       "    <tr>\n",
       "      <th>3570</th>\n",
       "      <td>3571</td>\n",
       "      <td>33262.0</td>\n",
       "      <td>246.0</td>\n",
       "      <td>One positive outcome is that we started to rea...</td>\n",
       "      <td>#networks</td>\n",
       "      <td>4.0</td>\n",
       "    </tr>\n",
       "    <tr>\n",
       "      <th>3578</th>\n",
       "      <td>3579</td>\n",
       "      <td>33262.0</td>\n",
       "      <td>335.0</td>\n",
       "      <td>this crisis made it clear how globally interco...</td>\n",
       "      <td>#networks</td>\n",
       "      <td>4.0</td>\n",
       "    </tr>\n",
       "    <tr>\n",
       "      <th>3594</th>\n",
       "      <td>3595</td>\n",
       "      <td>33267.0</td>\n",
       "      <td>260.0</td>\n",
       "      <td>One of the negative outcomes is huge unemplyem...</td>\n",
       "      <td>#networks</td>\n",
       "      <td>4.0</td>\n",
       "    </tr>\n",
       "    <tr>\n",
       "      <th>3597</th>\n",
       "      <td>3598</td>\n",
       "      <td>33267.0</td>\n",
       "      <td>283.0</td>\n",
       "      <td>The financial crisis triggered bank runs and b...</td>\n",
       "      <td>#networks</td>\n",
       "      <td>4.0</td>\n",
       "    </tr>\n",
       "  </tbody>\n",
       "</table>\n",
       "</div>"
      ],
      "text/plain": [
       "        id  Polls ID  Assessment reports Student ID  \\\n",
       "3207  3208   31079.0                          247.0   \n",
       "3570  3571   33262.0                          246.0   \n",
       "3578  3579   33262.0                          335.0   \n",
       "3594  3595   33267.0                          260.0   \n",
       "3597  3598   33267.0                          283.0   \n",
       "\n",
       "                                Poll Responses Response  \\\n",
       "3207  #networks 2 for the first reading (Winners Don...   \n",
       "3570  One positive outcome is that we started to rea...   \n",
       "3578  this crisis made it clear how globally interco...   \n",
       "3594  One of the negative outcomes is huge unemplyem...   \n",
       "3597  The financial crisis triggered bank runs and b...   \n",
       "\n",
       "     Assessment reports Hashtag  Assessment reports Score  \n",
       "3207                  #networks                       4.0  \n",
       "3570                  #networks                       4.0  \n",
       "3578                  #networks                       4.0  \n",
       "3594                  #networks                       4.0  \n",
       "3597                  #networks                       4.0  "
      ]
     },
     "execution_count": 2,
     "metadata": {},
     "output_type": "execute_result"
    }
   ],
   "source": [
    "# # Separating the dataframe by HCs/LOs and grades\n",
    "# import pandas as pd\n",
    "\n",
    "# df = pd.read_csv('minerva_university_responses.csv')\n",
    "\n",
    "\n",
    "# # Get all HCs/LOs list\n",
    "# hclo_lst = df['Assessment reports Hashtag'].dropna().unique().tolist()\n",
    "\n",
    "# # Make a dataframe for each HC/LO\n",
    "# hclos_dfs = {}\n",
    "# for hclo in hclo_lst:\n",
    "#     hclos_dfs[hclo] = df.loc[df['Assessment reports Hashtag'] == hclo]\n",
    "    \n",
    "# hclos_dfs['#networks'].head()\n",
    "\n",
    "\n",
    "# # Make dataframes for each score of each HC/LO\n",
    "# hclos_scores_dfs = {}\n",
    "\n",
    "# for hclo in hclo_lst:\n",
    "#     cur_df = hclos_dfs[hclo]\n",
    "#     hclos_scores_dfs[f'{hclo}_4'] = cur_df.loc[cur_df['Assessment reports Score'] == 4.0]\n",
    "#     hclos_scores_dfs[f'{hclo}_3'] = cur_df.loc[cur_df['Assessment reports Score'] == 3.0]\n",
    "#     hclos_scores_dfs[f'{hclo}_2'] = cur_df.loc[cur_df['Assessment reports Score'] == 2.0]\n",
    "#     hclos_scores_dfs[f'{hclo}_1'] = cur_df.loc[cur_df['Assessment reports Score'] == 1.0]\n",
    "    \n",
    "\n",
    "# hclos_scores_dfs['#networks_4'].head()\n",
    "\n",
    "\n"
   ]
  },
  {
   "cell_type": "code",
   "execution_count": null,
   "metadata": {},
   "outputs": [],
   "source": []
  },
  {
   "cell_type": "code",
   "execution_count": 4,
   "metadata": {},
   "outputs": [
    {
     "data": {
      "text/html": [
       "<div>\n",
       "<style scoped>\n",
       "    .dataframe tbody tr th:only-of-type {\n",
       "        vertical-align: middle;\n",
       "    }\n",
       "\n",
       "    .dataframe tbody tr th {\n",
       "        vertical-align: top;\n",
       "    }\n",
       "\n",
       "    .dataframe thead th {\n",
       "        text-align: right;\n",
       "    }\n",
       "</style>\n",
       "<table border=\"1\" class=\"dataframe\">\n",
       "  <thead>\n",
       "    <tr style=\"text-align: right;\">\n",
       "      <th></th>\n",
       "      <th>id</th>\n",
       "      <th>Polls ID</th>\n",
       "      <th>Assessment reports Student ID</th>\n",
       "      <th>Poll Responses Response</th>\n",
       "      <th>Assessment reports Hashtag</th>\n",
       "      <th>Assessment reports Score</th>\n",
       "    </tr>\n",
       "  </thead>\n",
       "  <tbody>\n",
       "    <tr>\n",
       "      <th>3207</th>\n",
       "      <td>3208</td>\n",
       "      <td>31079.0</td>\n",
       "      <td>247.0</td>\n",
       "      <td>#networks_2_for_the_first_reading_(Winners_Don...</td>\n",
       "      <td>#networks</td>\n",
       "      <td>4.0</td>\n",
       "    </tr>\n",
       "    <tr>\n",
       "      <th>3570</th>\n",
       "      <td>3571</td>\n",
       "      <td>33262.0</td>\n",
       "      <td>246.0</td>\n",
       "      <td>One_positive_outcome_is_that_we_started_to_rea...</td>\n",
       "      <td>#networks</td>\n",
       "      <td>4.0</td>\n",
       "    </tr>\n",
       "    <tr>\n",
       "      <th>3578</th>\n",
       "      <td>3579</td>\n",
       "      <td>33262.0</td>\n",
       "      <td>335.0</td>\n",
       "      <td>this_crisis_made_it_clear_how_globally_interco...</td>\n",
       "      <td>#networks</td>\n",
       "      <td>4.0</td>\n",
       "    </tr>\n",
       "    <tr>\n",
       "      <th>3594</th>\n",
       "      <td>3595</td>\n",
       "      <td>33267.0</td>\n",
       "      <td>260.0</td>\n",
       "      <td>One_of_the_negative_outcomes_is_huge_unemplyem...</td>\n",
       "      <td>#networks</td>\n",
       "      <td>4.0</td>\n",
       "    </tr>\n",
       "    <tr>\n",
       "      <th>3597</th>\n",
       "      <td>3598</td>\n",
       "      <td>33267.0</td>\n",
       "      <td>283.0</td>\n",
       "      <td>The_financial_crisis_triggered_bank_runs_and_b...</td>\n",
       "      <td>#networks</td>\n",
       "      <td>4.0</td>\n",
       "    </tr>\n",
       "  </tbody>\n",
       "</table>\n",
       "</div>"
      ],
      "text/plain": [
       "        id  Polls ID  Assessment reports Student ID  \\\n",
       "3207  3208   31079.0                          247.0   \n",
       "3570  3571   33262.0                          246.0   \n",
       "3578  3579   33262.0                          335.0   \n",
       "3594  3595   33267.0                          260.0   \n",
       "3597  3598   33267.0                          283.0   \n",
       "\n",
       "                                Poll Responses Response  \\\n",
       "3207  #networks_2_for_the_first_reading_(Winners_Don...   \n",
       "3570  One_positive_outcome_is_that_we_started_to_rea...   \n",
       "3578  this_crisis_made_it_clear_how_globally_interco...   \n",
       "3594  One_of_the_negative_outcomes_is_huge_unemplyem...   \n",
       "3597  The_financial_crisis_triggered_bank_runs_and_b...   \n",
       "\n",
       "     Assessment reports Hashtag  Assessment reports Score  \n",
       "3207                  #networks                       4.0  \n",
       "3570                  #networks                       4.0  \n",
       "3578                  #networks                       4.0  \n",
       "3594                  #networks                       4.0  \n",
       "3597                  #networks                       4.0  "
      ]
     },
     "execution_count": 4,
     "metadata": {},
     "output_type": "execute_result"
    }
   ],
   "source": [
    "\n",
    "# Separating the dataframe by HCs/LOs and grades\n",
    "import pandas as pd\n",
    "\n",
    "# With underscores\n",
    "df = pd.read_csv('minerva_university_responses.csv')\n",
    "df['Poll Responses Response'] = df['Poll Responses Response'].replace(' ', '_', regex=True)\n",
    "\n",
    "\n",
    "# Get all HCs/LOs list\n",
    "hclo_lst = df['Assessment reports Hashtag'].dropna().unique().tolist()\n",
    "\n",
    "# Make a dataframe for each HC/LO\n",
    "hclos_dfs = {}\n",
    "for hclo in hclo_lst:\n",
    "    hclos_dfs[hclo] = df.loc[df['Assessment reports Hashtag'] == hclo]\n",
    "    \n",
    "hclos_dfs['#networks'].head()\n",
    "\n",
    "\n",
    "# Make dataframes for each score of each HC/LO\n",
    "hclos_scores_dfs = {}\n",
    "\n",
    "for hclo in hclo_lst:\n",
    "    cur_df = hclos_dfs[hclo]\n",
    "    hclos_scores_dfs[f'{hclo}_4'] = cur_df.loc[cur_df['Assessment reports Score'] == 4.0]\n",
    "    hclos_scores_dfs[f'{hclo}_3'] = cur_df.loc[cur_df['Assessment reports Score'] == 3.0]\n",
    "    hclos_scores_dfs[f'{hclo}_2'] = cur_df.loc[cur_df['Assessment reports Score'] == 2.0]\n",
    "    hclos_scores_dfs[f'{hclo}_1'] = cur_df.loc[cur_df['Assessment reports Score'] == 1.0]\n",
    "    \n",
    "\n",
    "hclos_scores_dfs['#networks_4'].head()\n",
    "\n",
    "\n"
   ]
  },
  {
   "cell_type": "code",
   "execution_count": 1,
   "metadata": {},
   "outputs": [
    {
     "name": "stdout",
     "output_type": "stream",
     "text": [
      "^C\n"
     ]
    }
   ],
   "source": []
  },
  {
   "cell_type": "code",
   "execution_count": 14,
   "metadata": {},
   "outputs": [
    {
     "name": "stderr",
     "output_type": "stream",
     "text": [
      "\n",
      "Usage:   \n",
      "  pip install [options] <requirement specifier> [package-index-options] ...\n",
      "  pip install [options] -r <requirements file> [package-index-options] ...\n",
      "  pip install [options] [-e] <vcs project url> ...\n",
      "  pip install [options] [-e] <local project path> ...\n",
      "  pip install [options] <archive url/path> ...\n",
      "\n",
      "no such option: --no-use-wheel\n"
     ]
    }
   ],
   "source": [
    "WORD2VEC_CFLAGS='-march=corei7'   \n",
    "!pip install  --no-use-wheel word2vec\n"
   ]
  },
  {
   "cell_type": "code",
   "execution_count": 12,
   "metadata": {},
   "outputs": [],
   "source": [
    "#!pip install --upgrade pip setuptools wheel --user"
   ]
  },
  {
   "cell_type": "code",
   "execution_count": 25,
   "metadata": {},
   "outputs": [
    {
     "ename": "SyntaxError",
     "evalue": "invalid syntax (<ipython-input-25-5977f6e38066>, line 1)",
     "output_type": "error",
     "traceback": [
      "\u001b[1;36m  File \u001b[1;32m\"<ipython-input-25-5977f6e38066>\"\u001b[1;36m, line \u001b[1;32m1\u001b[0m\n\u001b[1;33m    poetry run python -m init -n\u001b[0m\n\u001b[1;37m           ^\u001b[0m\n\u001b[1;31mSyntaxError\u001b[0m\u001b[1;31m:\u001b[0m invalid syntax\n"
     ]
    }
   ],
   "source": [
    "poetry run python -m init -n"
   ]
  },
  {
   "cell_type": "code",
   "execution_count": 24,
   "metadata": {},
   "outputs": [
    {
     "ename": "SyntaxError",
     "evalue": "invalid syntax (<ipython-input-24-fe489469e73e>, line 1)",
     "output_type": "error",
     "traceback": [
      "\u001b[1;36m  File \u001b[1;32m\"<ipython-input-24-fe489469e73e>\"\u001b[1;36m, line \u001b[1;32m1\u001b[0m\n\u001b[1;33m    poetry add insecure-package && poetry remove insecure-package\u001b[0m\n\u001b[1;37m           ^\u001b[0m\n\u001b[1;31mSyntaxError\u001b[0m\u001b[1;31m:\u001b[0m invalid syntax\n"
     ]
    }
   ],
   "source": [
    "poetry add insecure-package && poetry remove insecure-package"
   ]
  },
  {
   "cell_type": "code",
   "execution_count": 19,
   "metadata": {},
   "outputs": [],
   "source": [
    "#!pip install --user poetry-kernel\n"
   ]
  },
  {
   "cell_type": "code",
   "execution_count": 26,
   "metadata": {},
   "outputs": [
    {
     "name": "stdout",
     "output_type": "stream",
     "text": [
      "Requirement already satisfied: numpy in c:\\users\\polin\\anaconda3\\lib\\site-packages (1.23.4)\n"
     ]
    },
    {
     "name": "stderr",
     "output_type": "stream",
     "text": [
      "WARNING: Ignoring invalid distribution -umpy (c:\\users\\polin\\anaconda3\\lib\\site-packages)\n",
      "WARNING: Ignoring invalid distribution -umpy (c:\\users\\polin\\anaconda3\\lib\\site-packages)\n",
      "WARNING: Ignoring invalid distribution -umpy (c:\\users\\polin\\anaconda3\\lib\\site-packages)\n",
      "WARNING: Ignoring invalid distribution -umpy (c:\\users\\polin\\anaconda3\\lib\\site-packages)\n"
     ]
    }
   ],
   "source": [
    "!pip install numpy"
   ]
  },
  {
   "cell_type": "code",
   "execution_count": 18,
   "metadata": {},
   "outputs": [
    {
     "name": "stderr",
     "output_type": "stream",
     "text": [
      "WARNING: Ignoring invalid distribution -umpy (c:\\users\\polin\\anaconda3\\lib\\site-packages)\n",
      "ERROR: Could not find a version that satisfies the requirement gzip (from versions: none)\n",
      "ERROR: No matching distribution found for gzip\n",
      "WARNING: Ignoring invalid distribution -umpy (c:\\users\\polin\\anaconda3\\lib\\site-packages)\n",
      "WARNING: Ignoring invalid distribution -umpy (c:\\users\\polin\\anaconda3\\lib\\site-packages)\n"
     ]
    }
   ],
   "source": [
    "!pip install gzip"
   ]
  },
  {
   "cell_type": "code",
   "execution_count": 20,
   "metadata": {},
   "outputs": [],
   "source": [
    "import gzip\n",
    "import gensim \n",
    "import logging\n",
    "\n",
    "logging.basicConfig(format='%(asctime)s : %(levelname)s : %(message)s', level=logging.INFO)"
   ]
  },
  {
   "cell_type": "code",
   "execution_count": 24,
   "metadata": {},
   "outputs": [
    {
     "data": {
      "text/html": [
       "<div>\n",
       "<style scoped>\n",
       "    .dataframe tbody tr th:only-of-type {\n",
       "        vertical-align: middle;\n",
       "    }\n",
       "\n",
       "    .dataframe tbody tr th {\n",
       "        vertical-align: top;\n",
       "    }\n",
       "\n",
       "    .dataframe thead th {\n",
       "        text-align: right;\n",
       "    }\n",
       "</style>\n",
       "<table border=\"1\" class=\"dataframe\">\n",
       "  <thead>\n",
       "    <tr style=\"text-align: right;\">\n",
       "      <th></th>\n",
       "      <th>id</th>\n",
       "      <th>Polls ID</th>\n",
       "      <th>Assessment reports Student ID</th>\n",
       "      <th>Poll Responses Response</th>\n",
       "      <th>Assessment reports Hashtag</th>\n",
       "      <th>Assessment reports Score</th>\n",
       "    </tr>\n",
       "  </thead>\n",
       "  <tbody>\n",
       "    <tr>\n",
       "      <th>0</th>\n",
       "      <td>1</td>\n",
       "      <td>12522</td>\n",
       "      <td>41</td>\n",
       "      <td>The strengths of Plato's approach is his const...</td>\n",
       "      <td>#objectivemorality</td>\n",
       "      <td>2</td>\n",
       "    </tr>\n",
       "    <tr>\n",
       "      <th>1</th>\n",
       "      <td>2</td>\n",
       "      <td>12522</td>\n",
       "      <td>42</td>\n",
       "      <td>Having a difficulty with his Divided Line. Th...</td>\n",
       "      <td>#deductivearg</td>\n",
       "      <td>2</td>\n",
       "    </tr>\n",
       "    <tr>\n",
       "      <th>2</th>\n",
       "      <td>3</td>\n",
       "      <td>12522</td>\n",
       "      <td>44</td>\n",
       "      <td>How can one know if he's in the cave or not, i...</td>\n",
       "      <td>#objectivemorality</td>\n",
       "      <td>3</td>\n",
       "    </tr>\n",
       "    <tr>\n",
       "      <th>3</th>\n",
       "      <td>4</td>\n",
       "      <td>12522</td>\n",
       "      <td>237</td>\n",
       "      <td>S: the hierarchy of the chart we filled out at...</td>\n",
       "      <td>#objectivemorality</td>\n",
       "      <td>3</td>\n",
       "    </tr>\n",
       "    <tr>\n",
       "      <th>4</th>\n",
       "      <td>5</td>\n",
       "      <td>12522</td>\n",
       "      <td>239</td>\n",
       "      <td>It is difficult to grasp how to apply Plato's ...</td>\n",
       "      <td>#objectivemorality</td>\n",
       "      <td>3</td>\n",
       "    </tr>\n",
       "  </tbody>\n",
       "</table>\n",
       "</div>"
      ],
      "text/plain": [
       "   id  Polls ID  Assessment reports Student ID  \\\n",
       "0   1     12522                             41   \n",
       "1   2     12522                             42   \n",
       "2   3     12522                             44   \n",
       "3   4     12522                            237   \n",
       "4   5     12522                            239   \n",
       "\n",
       "                             Poll Responses Response  \\\n",
       "0  The strengths of Plato's approach is his const...   \n",
       "1   Having a difficulty with his Divided Line. Th...   \n",
       "2  How can one know if he's in the cave or not, i...   \n",
       "3  S: the hierarchy of the chart we filled out at...   \n",
       "4  It is difficult to grasp how to apply Plato's ...   \n",
       "\n",
       "  Assessment reports Hashtag  Assessment reports Score  \n",
       "0         #objectivemorality                         2  \n",
       "1              #deductivearg                         2  \n",
       "2         #objectivemorality                         3  \n",
       "3         #objectivemorality                         3  \n",
       "4         #objectivemorality                         3  "
      ]
     },
     "execution_count": 24,
     "metadata": {},
     "output_type": "execute_result"
    }
   ],
   "source": [
    "df = pd.read_csv('minerva_university_responses.csv',nrows=1000)\n",
    "df.head()"
   ]
  },
  {
   "cell_type": "code",
   "execution_count": 23,
   "metadata": {},
   "outputs": [],
   "source": [
    "from nltk.corpus import stopwords\n",
    "stop_words = stopwords.words('english')\n",
    "stop_words.extend(['from', 'subject', 're', 'edu', 'use'])"
   ]
  },
  {
   "cell_type": "code",
   "execution_count": 26,
   "metadata": {},
   "outputs": [
    {
     "data": {
      "text/plain": [
       "list"
      ]
     },
     "execution_count": 26,
     "metadata": {},
     "output_type": "execute_result"
    }
   ],
   "source": [
    "data = df['Poll Responses Response'].values.tolist()\n",
    "type(data)"
   ]
  },
  {
   "cell_type": "code",
   "execution_count": 27,
   "metadata": {},
   "outputs": [],
   "source": [
    "def sent_to_words(sentences):\n",
    "    for sentence in sentences:\n",
    "        yield(gensim.utils.simple_preprocess(str(sentence), deacc=True))  # deacc=True removes punctuations"
   ]
  },
  {
   "cell_type": "code",
   "execution_count": 28,
   "metadata": {},
   "outputs": [],
   "source": [
    "data_words = list(sent_to_words(data))\n"
   ]
  },
  {
   "cell_type": "code",
   "execution_count": 29,
   "metadata": {},
   "outputs": [
    {
     "name": "stdout",
     "output_type": "stream",
     "text": [
      "['the', 'hierarchy', 'of', 'the', 'chart', 'we', 'filled', 'out', 'at', 'the', 'beginning', 'of', 'class', 'moral', 'knowledge', 'and', 'objectivity', 'is', 'clearly', 'explained', 'but', 'was', 'hard', 'for', 'me', 'to', 'understand', 'at', 'first', 'in', 'reference', 'to', 'the', 'chart', 'plato', 'doesn', 'use', 'the', 'term', 'truth', 'as', 'clearly', 'as', 'he', 'could', 'related', 'to', 'the', 'forms', 'asked', 'this']\n"
     ]
    }
   ],
   "source": [
    "print(data_words[3])\n"
   ]
  },
  {
   "cell_type": "code",
   "execution_count": 30,
   "metadata": {},
   "outputs": [
    {
     "name": "stderr",
     "output_type": "stream",
     "text": [
      "2022-11-11 10:09:16,265 : INFO : collecting all words and their counts\n",
      "2022-11-11 10:09:16,268 : INFO : PROGRESS: at sentence #0, processed 0 words and 0 word types\n",
      "2022-11-11 10:09:16,335 : INFO : collected 30616 token types (unigram + bigrams) from a corpus of 44790 words and 1000 sentences\n",
      "2022-11-11 10:09:16,336 : INFO : merged Phrases<30616 vocab, min_count=5, threshold=100, max_vocab_size=40000000>\n",
      "2022-11-11 10:09:16,337 : INFO : Phrases lifecycle event {'msg': 'built Phrases<30616 vocab, min_count=5, threshold=100, max_vocab_size=40000000> in 0.07s', 'datetime': '2022-11-11T10:09:16.337353', 'gensim': '4.2.0', 'python': '3.8.3 (default, Jul  2 2020, 17:30:36) [MSC v.1916 64 bit (AMD64)]', 'platform': 'Windows-10-10.0.19041-SP0', 'event': 'created'}\n",
      "2022-11-11 10:09:16,339 : INFO : collecting all words and their counts\n",
      "2022-11-11 10:09:16,341 : INFO : PROGRESS: at sentence #0, processed 0 words and 0 word types\n",
      "2022-11-11 10:09:16,499 : INFO : collected 30813 token types (unigram + bigrams) from a corpus of 43925 words and 1000 sentences\n",
      "2022-11-11 10:09:16,500 : INFO : merged Phrases<30813 vocab, min_count=5, threshold=100, max_vocab_size=40000000>\n",
      "2022-11-11 10:09:16,501 : INFO : Phrases lifecycle event {'msg': 'built Phrases<30813 vocab, min_count=5, threshold=100, max_vocab_size=40000000> in 0.16s', 'datetime': '2022-11-11T10:09:16.501837', 'gensim': '4.2.0', 'python': '3.8.3 (default, Jul  2 2020, 17:30:36) [MSC v.1916 64 bit (AMD64)]', 'platform': 'Windows-10-10.0.19041-SP0', 'event': 'created'}\n"
     ]
    }
   ],
   "source": [
    "from gensim.models.phrases import Phrases, Phraser\n",
    "# Build the bigram and trigram models\n",
    "bigram = Phrases(data_words, min_count=5, threshold=100) # higher threshold fewer phrases.\n",
    "trigram = Phrases(bigram[data_words], threshold=100)"
   ]
  },
  {
   "cell_type": "code",
   "execution_count": 31,
   "metadata": {},
   "outputs": [
    {
     "name": "stderr",
     "output_type": "stream",
     "text": [
      "2022-11-11 10:09:25,835 : INFO : exporting phrases from Phrases<30616 vocab, min_count=5, threshold=100, max_vocab_size=40000000>\n",
      "2022-11-11 10:09:25,910 : INFO : FrozenPhrases lifecycle event {'msg': 'exported FrozenPhrases<60 phrases, min_count=5, threshold=100> from Phrases<30616 vocab, min_count=5, threshold=100, max_vocab_size=40000000> in 0.07s', 'datetime': '2022-11-11T10:09:25.910402', 'gensim': '4.2.0', 'python': '3.8.3 (default, Jul  2 2020, 17:30:36) [MSC v.1916 64 bit (AMD64)]', 'platform': 'Windows-10-10.0.19041-SP0', 'event': 'created'}\n",
      "2022-11-11 10:09:25,911 : INFO : exporting phrases from Phrases<30813 vocab, min_count=5, threshold=100, max_vocab_size=40000000>\n",
      "2022-11-11 10:09:26,077 : INFO : FrozenPhrases lifecycle event {'msg': 'exported FrozenPhrases<63 phrases, min_count=5, threshold=100> from Phrases<30813 vocab, min_count=5, threshold=100, max_vocab_size=40000000> in 0.16s', 'datetime': '2022-11-11T10:09:26.076061', 'gensim': '4.2.0', 'python': '3.8.3 (default, Jul  2 2020, 17:30:36) [MSC v.1916 64 bit (AMD64)]', 'platform': 'Windows-10-10.0.19041-SP0', 'event': 'created'}\n"
     ]
    }
   ],
   "source": [
    "bigram_mod = Phraser(bigram)\n",
    "trigram_mod = Phraser(trigram)"
   ]
  },
  {
   "cell_type": "code",
   "execution_count": 32,
   "metadata": {},
   "outputs": [
    {
     "name": "stdout",
     "output_type": "stream",
     "text": [
      "['would', 'look_at', 'how', 'closely', 'each', 'is', 'related', 'to', 'those', 'researched', 'which', 'have', 'proven', 'to', 'be', 'most', 'active', 'in', 'inhibiting', 'ache', 'activity']\n"
     ]
    }
   ],
   "source": [
    "print(trigram_mod[bigram_mod[data_words[200]]])\n"
   ]
  },
  {
   "cell_type": "code",
   "execution_count": 41,
   "metadata": {},
   "outputs": [],
   "source": [
    "def remove_stopwords(texts):\n",
    "    return [[word for word in simple_preprocess(str(doc)) if word not in stop_words] for doc in texts]\n",
    "\n",
    "def make_bigrams(texts):\n",
    "    return [bigram_mod[doc] for doc in texts]\n",
    "\n",
    "def make_trigrams(texts):\n",
    "    return [trigram_mod[bigram_mod[doc]] for doc in texts]\n",
    "\n",
    "def lemmatization(texts, allowed_postags=['NOUN', 'ADJ', 'VERB', 'ADV']):\n",
    "    \"\"\"https://spacy.io/api/annotation\"\"\"\n",
    "    texts_out = []\n",
    "    for sent in texts:\n",
    "        doc = nlp(\" \".join(sent))\n",
    "        texts_out.append([token.lemma_ for token in doc if token.pos_ in allowed_postags])\n",
    "    return texts_out"
   ]
  },
  {
   "cell_type": "code",
   "execution_count": 44,
   "metadata": {},
   "outputs": [],
   "source": [
    "nlp = spacy.load(\"en_core_web_lg\")\n",
    "\n",
    "data_words_nostops = remove_stopwords(data_words)\n",
    "data_words_bigrams = make_bigrams(data_words_nostops)\n",
    "nlp = spacy.load('en_core_web_lg', disable=['parser', 'ner'])\n"
   ]
  },
  {
   "cell_type": "code",
   "execution_count": 46,
   "metadata": {},
   "outputs": [],
   "source": [
    "# import pandas as pd\n",
    "# import numpy as np\n",
    "# import gensim\n",
    "# import gensim.corpora as corpora\n",
    "# from gensim.utils import simple_preprocess\n",
    "# from gensim.models import CoherenceModel\n",
    "# import pyLDAvis\n",
    "# import pyLDAvis.gensim_models as gensimvis\n",
    "# import matplotlib.pyplot as plt\n",
    "# import re\n",
    "# import spacy"
   ]
  },
  {
   "cell_type": "code",
   "execution_count": 49,
   "metadata": {},
   "outputs": [
    {
     "name": "stderr",
     "output_type": "stream",
     "text": [
      "2022-11-11 10:16:49,825 : INFO : collecting all words and their counts\n",
      "2022-11-11 10:16:49,825 : INFO : PROGRESS: at sentence #0, processed 0 words, keeping 0 word types\n",
      "2022-11-11 10:16:49,835 : INFO : collected 4926 word types from a corpus of 44790 raw words and 1000 sentences\n",
      "2022-11-11 10:16:49,836 : INFO : Creating a fresh vocabulary\n",
      "2022-11-11 10:16:49,863 : INFO : Word2Vec lifecycle event {'msg': 'effective_min_count=2 retains 2546 unique words (51.68% of original 4926, drops 2380)', 'datetime': '2022-11-11T10:16:49.863074', 'gensim': '4.2.0', 'python': '3.8.3 (default, Jul  2 2020, 17:30:36) [MSC v.1916 64 bit (AMD64)]', 'platform': 'Windows-10-10.0.19041-SP0', 'event': 'prepare_vocab'}\n",
      "2022-11-11 10:16:49,864 : INFO : Word2Vec lifecycle event {'msg': 'effective_min_count=2 leaves 42410 word corpus (94.69% of original 44790, drops 2380)', 'datetime': '2022-11-11T10:16:49.864079', 'gensim': '4.2.0', 'python': '3.8.3 (default, Jul  2 2020, 17:30:36) [MSC v.1916 64 bit (AMD64)]', 'platform': 'Windows-10-10.0.19041-SP0', 'event': 'prepare_vocab'}\n",
      "2022-11-11 10:16:49,883 : INFO : deleting the raw counts dictionary of 4926 items\n",
      "2022-11-11 10:16:49,884 : INFO : sample=0.001 downsamples 47 most-common words\n",
      "2022-11-11 10:16:49,887 : INFO : Word2Vec lifecycle event {'msg': 'downsampling leaves estimated 31644.79180932172 word corpus (74.6%% of prior 42410)', 'datetime': '2022-11-11T10:16:49.887275', 'gensim': '4.2.0', 'python': '3.8.3 (default, Jul  2 2020, 17:30:36) [MSC v.1916 64 bit (AMD64)]', 'platform': 'Windows-10-10.0.19041-SP0', 'event': 'prepare_vocab'}\n",
      "2022-11-11 10:16:49,923 : INFO : estimated required memory for 2546 words and 100 dimensions: 3309800 bytes\n",
      "2022-11-11 10:16:49,924 : INFO : resetting layer weights\n",
      "2022-11-11 10:16:49,926 : INFO : Word2Vec lifecycle event {'update': False, 'trim_rule': 'None', 'datetime': '2022-11-11T10:16:49.926077', 'gensim': '4.2.0', 'python': '3.8.3 (default, Jul  2 2020, 17:30:36) [MSC v.1916 64 bit (AMD64)]', 'platform': 'Windows-10-10.0.19041-SP0', 'event': 'build_vocab'}\n",
      "2022-11-11 10:16:49,928 : INFO : Word2Vec lifecycle event {'msg': 'training model with 10 workers on 2546 vocabulary and 100 features, using sg=0 hs=0 sample=0.001 negative=5 window=10 shrink_windows=True', 'datetime': '2022-11-11T10:16:49.928083', 'gensim': '4.2.0', 'python': '3.8.3 (default, Jul  2 2020, 17:30:36) [MSC v.1916 64 bit (AMD64)]', 'platform': 'Windows-10-10.0.19041-SP0', 'event': 'train'}\n",
      "2022-11-11 10:16:49,982 : INFO : EPOCH 0: training on 44790 raw words (31717 effective words) took 0.0s, 703234 effective words/s\n",
      "2022-11-11 10:16:50,033 : INFO : EPOCH 1: training on 44790 raw words (31711 effective words) took 0.0s, 756542 effective words/s\n",
      "2022-11-11 10:16:50,070 : INFO : EPOCH 2: training on 44790 raw words (31733 effective words) took 0.0s, 1105425 effective words/s\n",
      "2022-11-11 10:16:50,120 : INFO : EPOCH 3: training on 44790 raw words (31752 effective words) took 0.0s, 747590 effective words/s\n",
      "2022-11-11 10:16:50,167 : INFO : EPOCH 4: training on 44790 raw words (31548 effective words) took 0.0s, 808465 effective words/s\n",
      "2022-11-11 10:16:50,168 : INFO : Word2Vec lifecycle event {'msg': 'training on 223950 raw words (158461 effective words) took 0.2s, 659124 effective words/s', 'datetime': '2022-11-11T10:16:50.168457', 'gensim': '4.2.0', 'python': '3.8.3 (default, Jul  2 2020, 17:30:36) [MSC v.1916 64 bit (AMD64)]', 'platform': 'Windows-10-10.0.19041-SP0', 'event': 'train'}\n",
      "2022-11-11 10:16:50,169 : INFO : Word2Vec lifecycle event {'params': 'Word2Vec<vocab=2546, vector_size=100, alpha=0.025>', 'datetime': '2022-11-11T10:16:50.169458', 'gensim': '4.2.0', 'python': '3.8.3 (default, Jul  2 2020, 17:30:36) [MSC v.1916 64 bit (AMD64)]', 'platform': 'Windows-10-10.0.19041-SP0', 'event': 'created'}\n"
     ]
    }
   ],
   "source": [
    "model = gensim.models.Word2Vec(\n",
    "        data_words,\n",
    "        window=10,\n",
    "        min_count=2,\n",
    "        workers=10)"
   ]
  },
  {
   "cell_type": "code",
   "execution_count": 4,
   "metadata": {},
   "outputs": [
    {
     "ename": "ModuleNotFoundError",
     "evalue": "No module named 'config'",
     "output_type": "error",
     "traceback": [
      "\u001b[1;31m---------------------------------------------------------------------------\u001b[0m",
      "\u001b[1;31mModuleNotFoundError\u001b[0m                       Traceback (most recent call last)",
      "\u001b[1;32m<ipython-input-4-d64efa4dbad4>\u001b[0m in \u001b[0;36m<module>\u001b[1;34m\u001b[0m\n\u001b[0;32m      3\u001b[0m \u001b[1;32mimport\u001b[0m \u001b[0mlogging\u001b[0m\u001b[1;33m\u001b[0m\u001b[1;33m\u001b[0m\u001b[0m\n\u001b[0;32m      4\u001b[0m \u001b[1;32mimport\u001b[0m \u001b[0mtime\u001b[0m\u001b[1;33m\u001b[0m\u001b[1;33m\u001b[0m\u001b[0m\n\u001b[1;32m----> 5\u001b[1;33m \u001b[1;32mimport\u001b[0m \u001b[0mconfig\u001b[0m\u001b[1;33m\u001b[0m\u001b[1;33m\u001b[0m\u001b[0m\n\u001b[0m\u001b[0;32m      6\u001b[0m \u001b[1;33m\u001b[0m\u001b[0m\n\u001b[0;32m      7\u001b[0m \u001b[1;32mfrom\u001b[0m \u001b[0moperator\u001b[0m \u001b[1;32mimport\u001b[0m \u001b[0madd\u001b[0m\u001b[1;33m\u001b[0m\u001b[1;33m\u001b[0m\u001b[0m\n",
      "\u001b[1;31mModuleNotFoundError\u001b[0m: No module named 'config'"
     ]
    }
   ],
   "source": [
    "import os\n",
    "import re\n",
    "import logging\n",
    "import time\n",
    "import config\n",
    "\n",
    "from operator import add\n",
    "\n",
    "from pyspark import SparkConf, SparkContext, SQLContext\n",
    "from pyspark.broadcast import _broadcastRegistry"
   ]
  },
  {
   "cell_type": "code",
   "execution_count": 53,
   "metadata": {},
   "outputs": [],
   "source": [
    "\n",
    "char_splitter = re.compile(\"[.,;!:()-]\")\n",
    "def generate_candidate_phrases(text, stopwords):\n",
    "    \"\"\" generate phrases using phrase boundary markers \"\"\"\n",
    "    # generate approximate phrases with punctation\n",
    "    coarse_candidates = char_splitter.split(text.lower())\n",
    "    candidate_phrases = []\n",
    "    for coarse_phrase\\\n",
    "            in coarse_candidates:\n",
    "        words = re.split(\"\\\\s+\", coarse_phrase)\n",
    "        previous_stop = False\n",
    "        # examine each word to determine if it is a phrase boundary marker or part of a phrase or lone ranger\n",
    "        for w in words:\n",
    "            if w in stopwords and not previous_stop:\n",
    "                # phrase boundary encountered, so put a hard indicator\n",
    "                candidate_phrases.append(\";\")\n",
    "                previous_stop = True\n",
    "            elif w not in stopwords and len(w) > 3:\n",
    "                # keep adding words to list until a phrase boundary is detected\n",
    "                candidate_phrases.append(w.strip())\n",
    "                previous_stop = False\n",
    "    # get a list of candidate phrases without boundary demarcation\n",
    "    phrases = re.split(\";+\", ' '.join(candidate_phrases))\n",
    "    return phrases\n"
   ]
  },
  {
   "cell_type": "code",
   "execution_count": 1,
   "metadata": {},
   "outputs": [],
   "source": [
    "import nltk\n",
    "from nltk.corpus import stopwords\n",
    "stops = stopwords.words('english')\n",
    "\n",
    "from gensim.models import Phrases"
   ]
  },
  {
   "cell_type": "code",
   "execution_count": 5,
   "metadata": {},
   "outputs": [
    {
     "data": {
      "text/html": [
       "<div>\n",
       "<style scoped>\n",
       "    .dataframe tbody tr th:only-of-type {\n",
       "        vertical-align: middle;\n",
       "    }\n",
       "\n",
       "    .dataframe tbody tr th {\n",
       "        vertical-align: top;\n",
       "    }\n",
       "\n",
       "    .dataframe thead th {\n",
       "        text-align: right;\n",
       "    }\n",
       "</style>\n",
       "<table border=\"1\" class=\"dataframe\">\n",
       "  <thead>\n",
       "    <tr style=\"text-align: right;\">\n",
       "      <th></th>\n",
       "      <th>id</th>\n",
       "      <th>Polls ID</th>\n",
       "      <th>Assessment reports Student ID</th>\n",
       "      <th>Poll Responses Response</th>\n",
       "      <th>Assessment reports Hashtag</th>\n",
       "      <th>Assessment reports Score</th>\n",
       "    </tr>\n",
       "  </thead>\n",
       "  <tbody>\n",
       "    <tr>\n",
       "      <th>0</th>\n",
       "      <td>1</td>\n",
       "      <td>12522</td>\n",
       "      <td>41</td>\n",
       "      <td>The strengths of Plato's approach is his const...</td>\n",
       "      <td>#objectivemorality</td>\n",
       "      <td>2</td>\n",
       "    </tr>\n",
       "    <tr>\n",
       "      <th>1</th>\n",
       "      <td>2</td>\n",
       "      <td>12522</td>\n",
       "      <td>42</td>\n",
       "      <td>Having a difficulty with his Divided Line. Th...</td>\n",
       "      <td>#deductivearg</td>\n",
       "      <td>2</td>\n",
       "    </tr>\n",
       "    <tr>\n",
       "      <th>2</th>\n",
       "      <td>3</td>\n",
       "      <td>12522</td>\n",
       "      <td>44</td>\n",
       "      <td>How can one know if he's in the cave or not, i...</td>\n",
       "      <td>#objectivemorality</td>\n",
       "      <td>3</td>\n",
       "    </tr>\n",
       "    <tr>\n",
       "      <th>3</th>\n",
       "      <td>4</td>\n",
       "      <td>12522</td>\n",
       "      <td>237</td>\n",
       "      <td>S: the hierarchy of the chart we filled out at...</td>\n",
       "      <td>#objectivemorality</td>\n",
       "      <td>3</td>\n",
       "    </tr>\n",
       "    <tr>\n",
       "      <th>4</th>\n",
       "      <td>5</td>\n",
       "      <td>12522</td>\n",
       "      <td>239</td>\n",
       "      <td>It is difficult to grasp how to apply Plato's ...</td>\n",
       "      <td>#objectivemorality</td>\n",
       "      <td>3</td>\n",
       "    </tr>\n",
       "  </tbody>\n",
       "</table>\n",
       "</div>"
      ],
      "text/plain": [
       "   id  Polls ID  Assessment reports Student ID  \\\n",
       "0   1     12522                             41   \n",
       "1   2     12522                             42   \n",
       "2   3     12522                             44   \n",
       "3   4     12522                            237   \n",
       "4   5     12522                            239   \n",
       "\n",
       "                             Poll Responses Response  \\\n",
       "0  The strengths of Plato's approach is his const...   \n",
       "1   Having a difficulty with his Divided Line. Th...   \n",
       "2  How can one know if he's in the cave or not, i...   \n",
       "3  S: the hierarchy of the chart we filled out at...   \n",
       "4  It is difficult to grasp how to apply Plato's ...   \n",
       "\n",
       "  Assessment reports Hashtag  Assessment reports Score  \n",
       "0         #objectivemorality                         2  \n",
       "1              #deductivearg                         2  \n",
       "2         #objectivemorality                         3  \n",
       "3         #objectivemorality                         3  \n",
       "4         #objectivemorality                         3  "
      ]
     },
     "execution_count": 5,
     "metadata": {},
     "output_type": "execute_result"
    }
   ],
   "source": [
    "import pandas as pd\n",
    "df = pd.read_csv('minerva_university_responses.csv',nrows=1000)\n",
    "\n",
    "df.head()"
   ]
  },
  {
   "cell_type": "code",
   "execution_count": 8,
   "metadata": {},
   "outputs": [],
   "source": [
    "# df['tokens']=df['Poll Responses Response'].apply(tokenization_function)\n",
    "# df['tokens']=df['tokens'].apply(lambda x:[x])\n",
    "# df['bigrams']=df['tokens'].apply(bigrams)\n",
    "\n",
    "bigram_transformer = Phrases(df['Poll Responses Response'])\n"
   ]
  },
  {
   "cell_type": "code",
   "execution_count": 11,
   "metadata": {},
   "outputs": [],
   "source": [
    "from gensim.models import Word2Vec\n",
    "model = Word2Vec(bigram_transformer['Poll Responses Response'], min_count=1)\n"
   ]
  },
  {
   "cell_type": "code",
   "execution_count": 16,
   "metadata": {},
   "outputs": [
    {
     "name": "stdout",
     "output_type": "stream",
     "text": [
      "Word2Vec<vocab=9, vector_size=100, alpha=0.025>\n"
     ]
    }
   ],
   "source": [
    "print(model)"
   ]
  },
  {
   "cell_type": "code",
   "execution_count": null,
   "metadata": {},
   "outputs": [],
   "source": []
  }
 ],
 "metadata": {
  "kernelspec": {
   "display_name": "Python 3",
   "language": "python",
   "name": "python3"
  },
  "language_info": {
   "codemirror_mode": {
    "name": "ipython",
    "version": 3
   },
   "file_extension": ".py",
   "mimetype": "text/x-python",
   "name": "python",
   "nbconvert_exporter": "python",
   "pygments_lexer": "ipython3",
   "version": "3.8.3"
  }
 },
 "nbformat": 4,
 "nbformat_minor": 4
}
