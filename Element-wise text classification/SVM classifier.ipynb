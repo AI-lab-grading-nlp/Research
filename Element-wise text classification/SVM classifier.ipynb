{
 "cells": [
  {
   "cell_type": "code",
   "execution_count": 1,
   "metadata": {},
   "outputs": [
    {
     "name": "stdout",
     "output_type": "stream",
     "text": [
      "Collecting nltk\n",
      "  Downloading nltk-3.7-py3-none-any.whl (1.5 MB)\n",
      "     ---------------------------------------- 1.5/1.5 MB 10.6 MB/s eta 0:00:00\n",
      "Collecting click\n",
      "  Downloading click-8.1.3-py3-none-any.whl (96 kB)\n",
      "     ---------------------------------------- 96.6/96.6 kB ? eta 0:00:00\n",
      "Collecting regex>=2021.8.3\n",
      "  Downloading regex-2022.9.13-cp310-cp310-win_amd64.whl (267 kB)\n",
      "     ------------------------------------- 267.7/267.7 kB 16.1 MB/s eta 0:00:00\n",
      "Requirement already satisfied: tqdm in c:\\users\\saai2\\anaconda3\\envs\\pymc_env\\lib\\site-packages (from nltk) (4.64.1)\n",
      "Requirement already satisfied: joblib in c:\\users\\saai2\\anaconda3\\envs\\pymc_env\\lib\\site-packages (from nltk) (1.2.0)\n",
      "Requirement already satisfied: colorama in c:\\users\\saai2\\anaconda3\\envs\\pymc_env\\lib\\site-packages (from click->nltk) (0.4.6)\n",
      "Installing collected packages: regex, click, nltk\n",
      "Successfully installed click-8.1.3 nltk-3.7 regex-2022.9.13\n",
      "Note: you may need to restart the kernel to use updated packages.\n"
     ]
    }
   ],
   "source": [
    "pip install nltk"
   ]
  },
  {
   "cell_type": "code",
   "execution_count": 1,
   "metadata": {},
   "outputs": [],
   "source": [
    "import pandas as pd\n",
    "import numpy as np\n",
    "import matplotlib.pyplot as plt\n",
    "import scipy.stats as sts"
   ]
  },
  {
   "cell_type": "code",
   "execution_count": 2,
   "metadata": {},
   "outputs": [],
   "source": [
    "\n",
    "from sklearn.feature_extraction.text import CountVectorizer\n",
    "from sklearn.model_selection import train_test_split, KFold, cross_val_score\n",
    "from sklearn.model_selection import GridSearchCV\n",
    "from sklearn.pipeline import Pipeline\n",
    "from sklearn.metrics import classification_report, confusion_matrix\n",
    "from nltk.tokenize import word_tokenize\n",
    "from nltk import pos_tag\n",
    "from nltk.corpus import stopwords\n",
    "from nltk.stem import WordNetLemmatizer\n",
    "from sklearn.preprocessing import LabelEncoder\n",
    "from collections import defaultdict\n",
    "from nltk.corpus import wordnet as wn\n",
    "from sklearn.feature_extraction.text import TfidfVectorizer\n",
    "from sklearn import model_selection, svm"
   ]
  },
  {
   "cell_type": "code",
   "execution_count": 3,
   "metadata": {},
   "outputs": [
    {
     "data": {
      "text/html": [
       "<div>\n",
       "<style scoped>\n",
       "    .dataframe tbody tr th:only-of-type {\n",
       "        vertical-align: middle;\n",
       "    }\n",
       "\n",
       "    .dataframe tbody tr th {\n",
       "        vertical-align: top;\n",
       "    }\n",
       "\n",
       "    .dataframe thead th {\n",
       "        text-align: right;\n",
       "    }\n",
       "</style>\n",
       "<table border=\"1\" class=\"dataframe\">\n",
       "  <thead>\n",
       "    <tr style=\"text-align: right;\">\n",
       "      <th></th>\n",
       "      <th>id</th>\n",
       "      <th>Polls ID</th>\n",
       "      <th>Assessment reports Student ID</th>\n",
       "      <th>Poll Responses Response</th>\n",
       "      <th>Assessment reports Hashtag</th>\n",
       "      <th>Assessment reports Score</th>\n",
       "    </tr>\n",
       "  </thead>\n",
       "  <tbody>\n",
       "    <tr>\n",
       "      <th>0</th>\n",
       "      <td>1</td>\n",
       "      <td>12522.0</td>\n",
       "      <td>41.0</td>\n",
       "      <td>The strengths of Plato's approach is his const...</td>\n",
       "      <td>#objectivemorality</td>\n",
       "      <td>2.0</td>\n",
       "    </tr>\n",
       "    <tr>\n",
       "      <th>1</th>\n",
       "      <td>2</td>\n",
       "      <td>12522.0</td>\n",
       "      <td>42.0</td>\n",
       "      <td>Having a difficulty with his Divided Line. Th...</td>\n",
       "      <td>#deductivearg</td>\n",
       "      <td>2.0</td>\n",
       "    </tr>\n",
       "    <tr>\n",
       "      <th>2</th>\n",
       "      <td>3</td>\n",
       "      <td>12522.0</td>\n",
       "      <td>44.0</td>\n",
       "      <td>How can one know if he's in the cave or not, i...</td>\n",
       "      <td>#objectivemorality</td>\n",
       "      <td>3.0</td>\n",
       "    </tr>\n",
       "    <tr>\n",
       "      <th>3</th>\n",
       "      <td>4</td>\n",
       "      <td>12522.0</td>\n",
       "      <td>237.0</td>\n",
       "      <td>S: the hierarchy of the chart we filled out at...</td>\n",
       "      <td>#objectivemorality</td>\n",
       "      <td>3.0</td>\n",
       "    </tr>\n",
       "    <tr>\n",
       "      <th>4</th>\n",
       "      <td>5</td>\n",
       "      <td>12522.0</td>\n",
       "      <td>239.0</td>\n",
       "      <td>It is difficult to grasp how to apply Plato's ...</td>\n",
       "      <td>#objectivemorality</td>\n",
       "      <td>3.0</td>\n",
       "    </tr>\n",
       "  </tbody>\n",
       "</table>\n",
       "</div>"
      ],
      "text/plain": [
       "   id  Polls ID  Assessment reports Student ID  \\\n",
       "0   1   12522.0                           41.0   \n",
       "1   2   12522.0                           42.0   \n",
       "2   3   12522.0                           44.0   \n",
       "3   4   12522.0                          237.0   \n",
       "4   5   12522.0                          239.0   \n",
       "\n",
       "                             Poll Responses Response  \\\n",
       "0  The strengths of Plato's approach is his const...   \n",
       "1   Having a difficulty with his Divided Line. Th...   \n",
       "2  How can one know if he's in the cave or not, i...   \n",
       "3  S: the hierarchy of the chart we filled out at...   \n",
       "4  It is difficult to grasp how to apply Plato's ...   \n",
       "\n",
       "  Assessment reports Hashtag  Assessment reports Score  \n",
       "0         #objectivemorality                       2.0  \n",
       "1              #deductivearg                       2.0  \n",
       "2         #objectivemorality                       3.0  \n",
       "3         #objectivemorality                       3.0  \n",
       "4         #objectivemorality                       3.0  "
      ]
     },
     "execution_count": 3,
     "metadata": {},
     "output_type": "execute_result"
    }
   ],
   "source": [
    "data = pd.read_csv('mu_data.csv')\n",
    "data.head()"
   ]
  },
  {
   "cell_type": "code",
   "execution_count": 4,
   "metadata": {},
   "outputs": [
    {
     "data": {
      "text/html": [
       "<div>\n",
       "<style scoped>\n",
       "    .dataframe tbody tr th:only-of-type {\n",
       "        vertical-align: middle;\n",
       "    }\n",
       "\n",
       "    .dataframe tbody tr th {\n",
       "        vertical-align: top;\n",
       "    }\n",
       "\n",
       "    .dataframe thead th {\n",
       "        text-align: right;\n",
       "    }\n",
       "</style>\n",
       "<table border=\"1\" class=\"dataframe\">\n",
       "  <thead>\n",
       "    <tr style=\"text-align: right;\">\n",
       "      <th></th>\n",
       "      <th>id</th>\n",
       "      <th>poll_id</th>\n",
       "      <th>student_id</th>\n",
       "      <th>response</th>\n",
       "      <th>HC</th>\n",
       "      <th>score</th>\n",
       "    </tr>\n",
       "  </thead>\n",
       "  <tbody>\n",
       "    <tr>\n",
       "      <th>0</th>\n",
       "      <td>1</td>\n",
       "      <td>12522.0</td>\n",
       "      <td>41.0</td>\n",
       "      <td>The strengths of Plato's approach is his const...</td>\n",
       "      <td>#objectivemorality</td>\n",
       "      <td>2.0</td>\n",
       "    </tr>\n",
       "    <tr>\n",
       "      <th>1</th>\n",
       "      <td>2</td>\n",
       "      <td>12522.0</td>\n",
       "      <td>42.0</td>\n",
       "      <td>Having a difficulty with his Divided Line. Th...</td>\n",
       "      <td>#deductivearg</td>\n",
       "      <td>2.0</td>\n",
       "    </tr>\n",
       "    <tr>\n",
       "      <th>2</th>\n",
       "      <td>3</td>\n",
       "      <td>12522.0</td>\n",
       "      <td>44.0</td>\n",
       "      <td>How can one know if he's in the cave or not, i...</td>\n",
       "      <td>#objectivemorality</td>\n",
       "      <td>3.0</td>\n",
       "    </tr>\n",
       "    <tr>\n",
       "      <th>3</th>\n",
       "      <td>4</td>\n",
       "      <td>12522.0</td>\n",
       "      <td>237.0</td>\n",
       "      <td>S: the hierarchy of the chart we filled out at...</td>\n",
       "      <td>#objectivemorality</td>\n",
       "      <td>3.0</td>\n",
       "    </tr>\n",
       "    <tr>\n",
       "      <th>4</th>\n",
       "      <td>5</td>\n",
       "      <td>12522.0</td>\n",
       "      <td>239.0</td>\n",
       "      <td>It is difficult to grasp how to apply Plato's ...</td>\n",
       "      <td>#objectivemorality</td>\n",
       "      <td>3.0</td>\n",
       "    </tr>\n",
       "  </tbody>\n",
       "</table>\n",
       "</div>"
      ],
      "text/plain": [
       "   id  poll_id  student_id                                           response  \\\n",
       "0   1  12522.0        41.0  The strengths of Plato's approach is his const...   \n",
       "1   2  12522.0        42.0   Having a difficulty with his Divided Line. Th...   \n",
       "2   3  12522.0        44.0  How can one know if he's in the cave or not, i...   \n",
       "3   4  12522.0       237.0  S: the hierarchy of the chart we filled out at...   \n",
       "4   5  12522.0       239.0  It is difficult to grasp how to apply Plato's ...   \n",
       "\n",
       "                   HC  score  \n",
       "0  #objectivemorality    2.0  \n",
       "1       #deductivearg    2.0  \n",
       "2  #objectivemorality    3.0  \n",
       "3  #objectivemorality    3.0  \n",
       "4  #objectivemorality    3.0  "
      ]
     },
     "execution_count": 4,
     "metadata": {},
     "output_type": "execute_result"
    }
   ],
   "source": [
    "data = data.rename(columns={\n",
    "    'Polls ID': 'poll_id',\n",
    "    'Assessment reports Student ID': 'student_id',\n",
    "    'Poll Responses Response':'response',\n",
    "    'Assessment reports Hashtag':'HC',\n",
    "    'Assessment reports Score':'score'})\n",
    "data.head()"
   ]
  },
  {
   "cell_type": "code",
   "execution_count": 19,
   "metadata": {},
   "outputs": [
    {
     "data": {
      "text/html": [
       "<div>\n",
       "<style scoped>\n",
       "    .dataframe tbody tr th:only-of-type {\n",
       "        vertical-align: middle;\n",
       "    }\n",
       "\n",
       "    .dataframe tbody tr th {\n",
       "        vertical-align: top;\n",
       "    }\n",
       "\n",
       "    .dataframe thead th {\n",
       "        text-align: right;\n",
       "    }\n",
       "</style>\n",
       "<table border=\"1\" class=\"dataframe\">\n",
       "  <thead>\n",
       "    <tr style=\"text-align: right;\">\n",
       "      <th></th>\n",
       "      <th>id</th>\n",
       "      <th>poll_id</th>\n",
       "      <th>student_id</th>\n",
       "      <th>response</th>\n",
       "      <th>HC</th>\n",
       "      <th>score</th>\n",
       "    </tr>\n",
       "  </thead>\n",
       "  <tbody>\n",
       "    <tr>\n",
       "      <th>263</th>\n",
       "      <td>264</td>\n",
       "      <td>19704.0</td>\n",
       "      <td>283.0</td>\n",
       "      <td>Freshwater economists would state that the bub...</td>\n",
       "      <td>#deduction</td>\n",
       "      <td>4.0</td>\n",
       "    </tr>\n",
       "    <tr>\n",
       "      <th>626</th>\n",
       "      <td>627</td>\n",
       "      <td>20862.0</td>\n",
       "      <td>625.0</td>\n",
       "      <td>The most important moment of class for me was ...</td>\n",
       "      <td>#deduction</td>\n",
       "      <td>3.0</td>\n",
       "    </tr>\n",
       "    <tr>\n",
       "      <th>627</th>\n",
       "      <td>628</td>\n",
       "      <td>20862.0</td>\n",
       "      <td>634.0</td>\n",
       "      <td>Free choice can be manipulated with language, ...</td>\n",
       "      <td>#deduction</td>\n",
       "      <td>3.0</td>\n",
       "    </tr>\n",
       "    <tr>\n",
       "      <th>628</th>\n",
       "      <td>629</td>\n",
       "      <td>20862.0</td>\n",
       "      <td>653.0</td>\n",
       "      <td>The activities regarding quantifiers placed a ...</td>\n",
       "      <td>#deduction</td>\n",
       "      <td>3.0</td>\n",
       "    </tr>\n",
       "    <tr>\n",
       "      <th>629</th>\n",
       "      <td>630</td>\n",
       "      <td>20862.0</td>\n",
       "      <td>673.0</td>\n",
       "      <td>Applying quantifiers that eliminate the ambigu...</td>\n",
       "      <td>#deduction</td>\n",
       "      <td>3.0</td>\n",
       "    </tr>\n",
       "  </tbody>\n",
       "</table>\n",
       "</div>"
      ],
      "text/plain": [
       "      id  poll_id  student_id  \\\n",
       "263  264  19704.0       283.0   \n",
       "626  627  20862.0       625.0   \n",
       "627  628  20862.0       634.0   \n",
       "628  629  20862.0       653.0   \n",
       "629  630  20862.0       673.0   \n",
       "\n",
       "                                              response          HC  score  \n",
       "263  Freshwater economists would state that the bub...  #deduction    4.0  \n",
       "626  The most important moment of class for me was ...  #deduction    3.0  \n",
       "627  Free choice can be manipulated with language, ...  #deduction    3.0  \n",
       "628  The activities regarding quantifiers placed a ...  #deduction    3.0  \n",
       "629  Applying quantifiers that eliminate the ambigu...  #deduction    3.0  "
      ]
     },
     "execution_count": 19,
     "metadata": {},
     "output_type": "execute_result"
    }
   ],
   "source": [
    "deduction = data[data['HC'] == '#deduction']\n",
    "deduction.shape\n",
    "deduction.head()"
   ]
  },
  {
   "cell_type": "code",
   "execution_count": 6,
   "metadata": {},
   "outputs": [
    {
     "data": {
      "text/plain": [
       "'\\nRubric for #deduction\\n1. Accurately applies and analyzes deductive reasoning with clear and detailed explanation\\n2. accurately identifies premises and conclusions and justifies the identification\\n3. provides a detailed, well-justified evaluation of the relationships among propositions with easy to follow steps\\n4. accurately distinguishes between validity and soundness and explains the meaning of each in the given context\\n5. provides a detailed, well justified evaluation of the validity or soundness\\n6. accurately and effectively applies deductive techniques to a complex, sophisticated derivation.\\n\\nAssuming that a person gets a 4 if they applied at least half of these, 3 if they applied 2, 2 if they applied 1 \\n'"
      ]
     },
     "execution_count": 6,
     "metadata": {},
     "output_type": "execute_result"
    }
   ],
   "source": [
    "\"\"\"\n",
    "Rubric for #deduction\n",
    "1. Accurately applies and analyzes deductive reasoning with clear and detailed explanation\n",
    "2. accurately identifies premises and conclusions and justifies the identification\n",
    "3. provides a detailed, well-justified evaluation of the relationships among propositions with easy to follow steps\n",
    "4. accurately distinguishes between validity and soundness and explains the meaning of each in the given context\n",
    "5. provides a detailed, well justified evaluation of the validity or soundness\n",
    "6. accurately and effectively applies deductive techniques to a complex, sophisticated derivation.\n",
    "\n",
    "Assuming that a person gets a 4 if they applied at least half of these, 3 if they applied 2, 2 if they applied 1 \n",
    "\"\"\""
   ]
  },
  {
   "cell_type": "code",
   "execution_count": 26,
   "metadata": {},
   "outputs": [],
   "source": [
    "deduction = deduction.drop(['id', 'student_id', 'HC'], axis = 1)\n"
   ]
  },
  {
   "cell_type": "code",
   "execution_count": 8,
   "metadata": {},
   "outputs": [],
   "source": [
    "rubric = np.zeros((2977, 6))\n",
    "i = 0\n",
    "for score in deduction['score']:\n",
    "    if score == 4.0:\n",
    "        c = np.random.randint(4)\n",
    "        rubric[i] = np.random.shuffle([0]*c + [1]*(c-1))\n",
    "    elif score == 3.0:\n",
    "        c = np.random.randint(5)\n",
    "        rubric[i] = np.random.shuffle([0]*c + [1]*(c-1))\n",
    "\n",
    "#np.random.randint(2, size = (10, 6))\n"
   ]
  },
  {
   "cell_type": "code",
   "execution_count": 33,
   "metadata": {},
   "outputs": [
    {
     "data": {
      "text/plain": [
       "2"
      ]
     },
     "execution_count": 33,
     "metadata": {},
     "output_type": "execute_result"
    }
   ],
   "source": [
    "np.random.randint(4)"
   ]
  },
  {
   "cell_type": "code",
   "execution_count": null,
   "metadata": {},
   "outputs": [],
   "source": []
  },
  {
   "cell_type": "code",
   "execution_count": null,
   "metadata": {},
   "outputs": [],
   "source": []
  }
 ],
 "metadata": {
  "kernelspec": {
   "display_name": "Python 3.10.6 ('pymc_env')",
   "language": "python",
   "name": "python3"
  },
  "language_info": {
   "codemirror_mode": {
    "name": "ipython",
    "version": 3
   },
   "file_extension": ".py",
   "mimetype": "text/x-python",
   "name": "python",
   "nbconvert_exporter": "python",
   "pygments_lexer": "ipython3",
   "version": "3.10.6"
  },
  "orig_nbformat": 4,
  "vscode": {
   "interpreter": {
    "hash": "30f23fb4dc2473875918d2c6c35dfc88ca93a145dce6bcf6c79e9febb3225197"
   }
  }
 },
 "nbformat": 4,
 "nbformat_minor": 2
}
